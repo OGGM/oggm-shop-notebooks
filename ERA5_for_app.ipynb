{
 "cells": [
  {
   "cell_type": "markdown",
   "metadata": {},
   "source": [
    "# ERA5 at glacier locations"
   ]
  },
  {
   "cell_type": "markdown",
   "metadata": {},
   "source": [
    "Code and data used to generate data for our [Glacier Explorer](http://edu.oggm.org/en/latest/explorer.html)"
   ]
  },
  {
   "cell_type": "code",
   "execution_count": 1,
   "metadata": {},
   "outputs": [],
   "source": [
    "# Data wrangling libs\n",
    "import xarray as xr\n",
    "import numpy as np\n",
    "import pandas as pd\n",
    "from scipy import stats\n",
    "# Just for download and fancy bar\n",
    "from oggm import utils\n",
    "import progressbar\n",
    "# Plots\n",
    "import matplotlib.pyplot as plt\n",
    "import seaborn as sns"
   ]
  },
  {
   "cell_type": "markdown",
   "metadata": {},
   "source": [
    "### Glacier location and area"
   ]
  },
  {
   "cell_type": "markdown",
   "metadata": {},
   "source": [
    "We download data from the [Randolph Glacier Inventory (RGI 6.0)](https://www.glims.org/RGI/), pre-processed in tabular form:"
   ]
  },
  {
   "cell_type": "code",
   "execution_count": 2,
   "metadata": {},
   "outputs": [
    {
     "name": "stderr",
     "output_type": "stream",
     "text": [
      "No known hash for cluster.klima.uni-bremen.de/~fmaussion/misc/rgi62_allglaciers.csv\n"
     ]
    }
   ],
   "source": [
    "# RGI statistics as csv\n",
    "frgi = utils.file_downloader('https://cluster.klima.uni-bremen.de/~fmaussion/misc/rgi62_allglaciers.csv')\n",
    "odf = pd.read_csv(frgi, index_col=0,\n",
    "                  converters={'Name':str, 'GLIMSId': str, 'BgnDate':str, 'EndDate':str, \n",
    "                              'O1Region': str, 'O2Region':str, \n",
    "                              'IsTidewater':bool, 'IsNominal':bool})"
   ]
  },
  {
   "cell_type": "markdown",
   "metadata": {},
   "source": [
    "Some data wrangling to locate the ERA5 grid points where we have glaciers:"
   ]
  },
  {
   "cell_type": "code",
   "execution_count": 3,
   "metadata": {},
   "outputs": [
    {
     "name": "stderr",
     "output_type": "stream",
     "text": [
      "No known hash for cluster.klima.uni-bremen.de/~fmaussion/climate/era5/monthly/v1.0/era5_monthly_t2m_1979-2018.nc\n"
     ]
    },
    {
     "name": "stdout",
     "output_type": "stream",
     "text": [
      "Total number of glaciers: 216502 and number of ERA5 gridpoints with glaciers in them: 11323\n"
     ]
    }
   ],
   "source": [
    "f_era = utils.file_downloader('https://cluster.klima.uni-bremen.de/~fmaussion/climate/era5/monthly/v1.0/era5_monthly_t2m_1979-2018.nc')\n",
    "ds = xr.open_dataset(f_era).chunk(chunks={'time':12})\n",
    "nx, ny = ds.dims['longitude'], ds.dims['latitude']\n",
    "# Nearest neighbor lookup\n",
    "cenlon_for_bins = np.where(odf['CenLon'] < -0.125, odf['CenLon']+360, odf['CenLon'])\n",
    "lon_bins = np.linspace(-0.125, 359.75+0.125, nx)\n",
    "lat_bins = np.linspace(90+0.125, -90-0.125, ny)\n",
    "odf['lon_id'] = np.digitize(cenlon_for_bins, lon_bins)-1\n",
    "odf['lat_id'] = np.digitize(odf['CenLat'], lat_bins)-1\n",
    "# Use unique grid points as index and compute the area per location\n",
    "odf['unique_id'] = ['{:03d}_{:03d}'.format(lon, lat) for (lon, lat) in zip(odf['lon_id'], odf['lat_id'])]\n",
    "mdf = odf.drop_duplicates(subset='unique_id').set_index('unique_id')\n",
    "mdf['Area'] = odf.groupby('unique_id').sum()['Area']\n",
    "print('Total number of glaciers: {} and number of ERA5 gridpoints with glaciers in them: {}'.format(len(odf), len(mdf)))"
   ]
  },
  {
   "cell_type": "markdown",
   "metadata": {},
   "source": [
    "## Now the fun part "
   ]
  },
  {
   "cell_type": "code",
   "execution_count": 2,
   "metadata": {},
   "outputs": [],
   "source": [
    "fds = xr.open_dataset('era5_annual_glacierloc_1979-2018.nc')"
   ]
  },
  {
   "cell_type": "code",
   "execution_count": 3,
   "metadata": {},
   "outputs": [
    {
     "name": "stdout",
     "output_type": "stream",
     "text": [
      "xarray.Dataset {\n",
      "dimensions:\n",
      "\ttime = 40 ;\n",
      "\tzone_id = 11323 ;\n",
      "\n",
      "variables:\n",
      "\tfloat32 t2m(time, zone_id) ;\n",
      "\t\tt2m:units = K ;\n",
      "\t\tt2m:long_name = 2m air temperature ;\n",
      "\tfloat64 pcp(time, zone_id) ;\n",
      "\t\tpcp:units = mm yr-1 ;\n",
      "\t\tpcp:long_name = Total precipitation ;\n",
      "\tfloat32 surface_elev(zone_id) ;\n",
      "\t\tsurface_elev:units = m ;\n",
      "\t\tsurface_elev:long_name = ERA5 surface elevation ;\n",
      "\tfloat32 landmask(zone_id) ;\n",
      "\t\tlandmask:units = (0 - 1) ;\n",
      "\t\tlandmask:long_name = Land-sea mask ;\n",
      "\t\tlandmask:standard_name = land_binary_mask ;\n",
      "\tfloat64 glacier_area(zone_id) ;\n",
      "\t\tglacier_area:units = km2 ;\n",
      "\t\tglacier_area:long_name = Total glacier area in grid-point ;\n",
      "\tfloat64 trend(zone_id) ;\n",
      "\t\ttrend:units = K decade-1 ;\n",
      "\t\ttrend:long_name = 40yr 2mtemperature trend ;\n",
      "\tfloat64 trend_std_err(zone_id) ;\n",
      "\t\ttrend_std_err:units = K decade-1 ;\n",
      "\t\ttrend_std_err:long_name = 40yr 2mtemperature trend standard error ;\n",
      "\tfloat64 trend_p_values(zone_id) ;\n",
      "\t\ttrend_p_values:units = - ;\n",
      "\t\ttrend_p_values:long_name = 40yr 2mtemperature trend p-value ;\n",
      "\tfloat32 latitude(zone_id) ;\n",
      "\t\tlatitude:units = degrees_north ;\n",
      "\t\tlatitude:long_name = latitude ;\n",
      "\tobject zone_id(zone_id) ;\n",
      "\t\tzone_id:units = - ;\n",
      "\t\tzone_id:long_name = Zone in ERA5 as lon index - lat index ;\n",
      "\tdatetime64[ns] time(time) ;\n",
      "\tfloat32 longitude(zone_id) ;\n",
      "\t\tlongitude:units = degrees_east ;\n",
      "\t\tlongitude:long_name = longitude ;\n",
      "\n",
      "// global attributes:\n",
      "\t:info = Annual ERA5 data extracted at all glacier locations ;\n",
      "\t:author = fabien.maussion@uibk.ac.at ;\n",
      "\t:date = 2019-08-30 ;\n",
      "}"
     ]
    }
   ],
   "source": [
    "fds.info()"
   ]
  },
  {
   "cell_type": "code",
   "execution_count": 5,
   "metadata": {},
   "outputs": [],
   "source": [
    "fdsm = fds.mean(dim='time')"
   ]
  },
  {
   "cell_type": "code",
   "execution_count": 6,
   "metadata": {},
   "outputs": [
    {
     "data": {
      "text/plain": [
       "<xarray.Dataset>\n",
       "Dimensions:         (zone_id: 11323)\n",
       "Coordinates:\n",
       "    latitude        (zone_id) float32 ...\n",
       "  * zone_id         (zone_id) object '852_105' '853_106' ... '151_547'\n",
       "    longitude       (zone_id) float32 ...\n",
       "Data variables:\n",
       "    t2m             (zone_id) float32 266.63727 266.06006 ... 278.84894\n",
       "    pcp             (zone_id) float64 763.1 801.5 823.3 ... 667.1 1.206e+03\n",
       "    surface_elev    (zone_id) float32 1520.6927 1472.6215 ... 25.721743\n",
       "    landmask        (zone_id) float32 0.99342316 0.995941 ... 0.06749272\n",
       "    glacier_area    (zone_id) float64 28.53 561.1 48.82 ... 5.547 0.011 0.528\n",
       "    trend           (zone_id) float64 0.1444 0.1596 0.1339 ... -0.09588 0.006869\n",
       "    trend_std_err   (zone_id) float64 0.1316 0.1297 0.1306 ... 0.113 0.042\n",
       "    trend_p_values  (zone_id) float64 0.2793 0.2262 0.3115 ... 0.4015 0.871"
      ]
     },
     "execution_count": 6,
     "metadata": {},
     "output_type": "execute_result"
    }
   ],
   "source": [
    "fdsm"
   ]
  },
  {
   "cell_type": "code",
   "execution_count": 7,
   "metadata": {},
   "outputs": [
    {
     "data": {
      "image/png": "[encoded data removed]",
      "text/plain": [
       "<Figure size 432x288 with 1 Axes>"
      ]
     },
     "metadata": {},
     "output_type": "display_data"
    }
   ],
   "source": [
    "plt.scatter(fdsm.t2m, fdsm.pcp);"
   ]
  },
  {
   "cell_type": "code",
   "execution_count": 8,
   "metadata": {},
   "outputs": [
    {
     "name": "stderr",
     "output_type": "stream",
     "text": [
      "100% (11323 of 11323) |##################| Elapsed Time: 0:15:57 Time:  0:15:57\n"
     ]
    }
   ],
   "source": [
    "for zid in progressbar.progressbar(mdf.index):\n",
    "    sel_in = fdsm.sel(zone_id=zid)\n",
    "    sel_out = odf.loc[odf.unique_id == zid]\n",
    "    \n",
    "    odf.loc[odf.unique_id == zid, 'era5_avg_temp_at_zmed'] = (sel_in.surface_elev.data- sel_out.Zmed) * 0.0065 + sel_in.t2m.data - 273.15\n",
    "    odf.loc[odf.unique_id == zid, 'era5_avg_pcp'] =  sel_in.pcp.data\n",
    "    odf.loc[odf.unique_id == zid, 'era5_elev'] = sel_in.surface_elev.data\n",
    "    odf.loc[odf.unique_id == zid, 'era5_landmask'] =  sel_in.landmask.data\n",
    "    odf.loc[odf.unique_id == zid, 'era5_trend'] =  sel_in.trend.data\n",
    "    odf.loc[odf.unique_id == zid, 'era5_trend_std_err'] =  sel_in.trend_std_err.data\n",
    "    odf.loc[odf.unique_id == zid, 'era5_trend_p_values'] =  sel_in.trend_p_values.data"
   ]
  },
  {
   "cell_type": "code",
   "execution_count": 10,
   "metadata": {},
   "outputs": [
    {
     "name": "stderr",
     "output_type": "stream",
     "text": [
      "/home/mowglie/.pyvirtualenvs/py3/lib/python3.5/site-packages/pandas/core/generic.py:2377: PerformanceWarning: \n",
      "your performance may suffer as PyTables will pickle object types that it cannot\n",
      "map directly to c-types [inferred_type->mixed,key->block3_values] [items->['GLIMSId', 'BgnDate', 'EndDate', 'O1Region', 'O2Region', 'Name', 'check_geom', 'GlacierType', 'TerminusType', 'GlacierStatus', 'unique_id']]\n",
      "\n",
      "  return pytables.to_hdf(path_or_buf, key, self, **kwargs)\n"
     ]
    }
   ],
   "source": [
    "odf.to_hdf('rgi62_era5_df.h5', key='df', mode='w')"
   ]
  },
  {
   "cell_type": "code",
   "execution_count": 11,
   "metadata": {},
   "outputs": [],
   "source": [
    "odf.to_csv('rgi62_era5_df.csv')"
   ]
  },
  {
   "cell_type": "code",
   "execution_count": 13,
   "metadata": {},
   "outputs": [
    {
     "data": {
      "text/plain": [
       "<matplotlib.axes._subplots.AxesSubplot at 0x7fe1dc276ef0>"
      ]
     },
     "execution_count": 13,
     "metadata": {},
     "output_type": "execute_result"
    },
    {
     "data": {
      "image/png": "[encoded data removed]",
      "text/plain": [
       "<Figure size 432x288 with 1 Axes>"
      ]
     },
     "metadata": {},
     "output_type": "display_data"
    }
   ],
   "source": [
    "odf[['era5_avg_temp_at_zmed']].plot(kind='hist', bins=50)"
   ]
  },
  {
   "cell_type": "code",
   "execution_count": 14,
   "metadata": {},
   "outputs": [
    {
     "data": {
      "text/plain": [
       "<matplotlib.axes._subplots.AxesSubplot at 0x7fe1dc17fc50>"
      ]
     },
     "execution_count": 14,
     "metadata": {},
     "output_type": "execute_result"
    },
    {
     "data": {
      "image/png": "[encoded data removed]",
      "text/plain": [
       "<Figure size 432x288 with 1 Axes>"
      ]
     },
     "metadata": {},
     "output_type": "display_data"
    }
   ],
   "source": [
    "odf[['era5_avg_pcp']].plot(kind='hist', bins=50)"
   ]
  },
  {
   "cell_type": "code",
   "execution_count": 15,
   "metadata": {},
   "outputs": [
    {
     "data": {
      "text/plain": [
       "<matplotlib.axes._subplots.AxesSubplot at 0x7fe1dc1a6c50>"
      ]
     },
     "execution_count": 15,
     "metadata": {},
     "output_type": "execute_result"
    },
    {
     "data": {
      "image/png": "[encoded data removed]",
      "text/plain": [
       "<Figure size 432x288 with 1 Axes>"
      ]
     },
     "metadata": {},
     "output_type": "display_data"
    }
   ],
   "source": [
    "odf[['era5_trend']].plot(kind='hist', bins=50)"
   ]
  },
  {
   "cell_type": "code",
   "execution_count": null,
   "metadata": {},
   "outputs": [],
   "source": []
  }
 ],
 "metadata": {
  "hide_input": false,
  "kernelspec": {
   "display_name": "Python 3",
   "language": "python",
   "name": "python3"
  },
  "language_info": {
   "codemirror_mode": {
    "name": "ipython",
    "version": 3
   },
   "file_extension": ".py",
   "mimetype": "text/x-python",
   "name": "python",
   "nbconvert_exporter": "python",
   "pygments_lexer": "ipython3",
   "version": "3.5.2"
  },
  "latex_envs": {
   "LaTeX_envs_menu_present": true,
   "autoclose": false,
   "autocomplete": true,
   "bibliofile": "biblio.bib",
   "cite_by": "apalike",
   "current_citInitial": 1,
   "eqLabelWithNumbers": true,
   "eqNumInitial": 1,
   "hotkeys": {
    "equation": "Ctrl-E",
    "itemize": "Ctrl-I"
   },
   "labels_anchors": false,
   "latex_user_defs": false,
   "report_style_numbering": false,
   "user_envs_cfg": false
  },
  "nbTranslate": {
   "displayLangs": [
    "*"
   ],
   "hotkey": "alt-t",
   "langInMainMenu": true,
   "sourceLang": "en",
   "targetLang": "fr",
   "useGoogleTranslate": true
  },
  "toc": {
   "base_numbering": 1,
   "nav_menu": {},
   "number_sections": false,
   "sideBar": true,
   "skip_h1_title": true,
   "title_cell": "Table of Contents",
   "title_sidebar": "Contents",
   "toc_cell": false,
   "toc_position": {},
   "toc_section_display": true,
   "toc_window_display": false
  }
 },
 "nbformat": 4,
 "nbformat_minor": 4
}
