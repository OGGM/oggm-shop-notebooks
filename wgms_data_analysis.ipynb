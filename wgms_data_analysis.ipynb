{
 "cells": [
  {
   "cell_type": "markdown",
   "id": "8b454622",
   "metadata": {},
   "source": [
    "# WGMS MB profile and seasonal MB data filtering and data analysis\n",
    "\n",
    "- produces WGMS data analysis overview csv of amount of observations (MB_profile, summer/winter/annual MB)\n",
    "    - save it under `oggm-sample-data/wgms/wgms_data_stats_20220301.csv`\n",
    "- filters winter MB data by getting meta-data about the Begin and End periods of the winter time periods\n",
    "    - if they do not exist or are unvalid time points -> remove those measurement years as they can not be used\n",
    "    - only take those glaciers where we have at least 5 winter MB data and 10 annual MB data\n",
    "    - save them inside of `oggm-sample-data/wgms/mb_overview_seasonal_mb_time_periods_20220301.csv`"
   ]
  },
  {
   "cell_type": "code",
   "execution_count": 75,
   "id": "c939523c",
   "metadata": {},
   "outputs": [
    {
     "name": "stderr",
     "output_type": "stream",
     "text": [
      "2022-03-01 15:27:16: oggm.cfg: Reading default parameters from the OGGM `params.cfg` configuration file.\n",
      "2022-03-01 15:27:16: oggm.cfg: Multiprocessing switched OFF according to the parameter file.\n",
      "2022-03-01 15:27:16: oggm.cfg: Multiprocessing: using all available processors (N=8)\n",
      "2022-03-01 15:27:16: oggm.cfg: Multiprocessing switched ON after user settings.\n",
      "2022-03-01 15:27:16: oggm.cfg: PARAMS['continue_on_error'] changed from `False` to `True`.\n",
      "2022-03-01 15:27:16: oggm.cfg: PARAMS['hydro_month_nh'] changed from `10` to `1`.\n",
      "2022-03-01 15:27:16: oggm.cfg: PARAMS['hydro_month_sh'] changed from `4` to `1`.\n"
     ]
    }
   ],
   "source": [
    "working_dir = '/home/lilianschuster/Schreibtisch/PhD/bayes_2022/bayes_oggm_folder_2022'\n",
    "\n",
    "import numpy as np \n",
    "import pandas as pd\n",
    "import xarray as xr\n",
    "import seaborn as sns\n",
    "\n",
    "import matplotlib.pyplot as plt\n",
    "import matplotlib\n",
    "\n",
    "# %matplotlib inline\n",
    "import os\n",
    "import oggm\n",
    "from oggm import cfg, utils, workflow, tasks, graphics\n",
    "from oggm.core import massbalance, flowline, climate\n",
    "import logging\n",
    "log = logging.getLogger(__name__)\n",
    "\n",
    "# from drounce_analyze_mcmc import effective_n, mcse_batchmeans\n",
    "# plotting bayesian stuff\n",
    "import arviz as az\n",
    "az.rcParams['stats.hdi_prob'] = 0.95\n",
    "\n",
    "\n",
    "cfg.initialize() #logging_level='WARNING'\n",
    "cfg.PARAMS['use_multiprocessing'] = True\n",
    "\n",
    "cfg.PARAMS['continue_on_error'] = True\n",
    "\n",
    "#if cluster:\n",
    "cfg.PATHS['working_dir'] = working_dir\n",
    "# use Huss flowlines\n",
    "base_url = ('https://cluster.klima.uni-bremen.de/~oggm/gdirs/oggm_v1.4/'\n",
    "            'L1-L2_files/elev_bands')\n",
    "\n",
    "\n",
    "# import the MSsandbox modules\n",
    "from MBsandbox.mbmod_daily_oneflowline import process_w5e5_data\n",
    "from MBsandbox.help_func import get_mean_mb_profile_filtered\n",
    "\n",
    "\n",
    "cfg.PARAMS['hydro_month_nh']=1\n",
    "cfg.PARAMS['hydro_month_sh']=1"
   ]
  },
  {
   "cell_type": "code",
   "execution_count": 76,
   "id": "f4380c96",
   "metadata": {},
   "outputs": [
    {
     "name": "stderr",
     "output_type": "stream",
     "text": [
      "2022-03-01 15:27:16: oggm.workflow: Execute entity tasks [GlacierDirectory] on 290 glaciers\n"
     ]
    }
   ],
   "source": [
    "ref_candidates = oggm.utils.get_ref_mb_glaciers_candidates()\n",
    "baseline_climate = 'W5E5'\n",
    "load = False\n",
    "if load:\n",
    "    gdirs = workflow.init_glacier_directories(\n",
    "                ref_candidates,\n",
    "                from_prepro_level=2,\n",
    "                prepro_border=10,\n",
    "                prepro_base_url=base_url,\n",
    "                prepro_rgi_version='62')\n",
    "    t=workflow.execute_entity_task(tasks.compute_downstream_line, gdirs)\n",
    "    t=workflow.execute_entity_task(tasks.compute_downstream_bedshape, gdirs)\n",
    "    #if baseline_climate == 'W5E5':\n",
    "    #if mb_type != 'mb_monthly':\n",
    "    #else:\n",
    "    t = workflow.execute_entity_task(process_w5e5_data, gdirs, climate_type=baseline_climate,\n",
    "                                  temporal_resol='monthly')\n",
    "    #else:\n",
    "    t = workflow.execute_entity_task(process_w5e5_data, gdirs, climate_type=baseline_climate,\n",
    "                                     temporal_resol='daily')\n",
    "    #t = workflow.execute_entity_task(process_era5_daily_data, gdirs, #climate_type=baseline_climate,\n",
    "                              #temporal_resol='daily'process_era5_daily_data(gd)\n",
    "    #                                )\n",
    "else:\n",
    "    gdirs = workflow.init_glacier_directories(\n",
    "                ref_candidates)\n",
    "#gdirs = oggm.utils.get_ref_mb_glaciers(gdirs, y0=1979, y1=2020) # at the moment it only goes untill 2018, but this hshould be updated anyways .. \n",
    "#ref_glaciers_10msm = []\n",
    "#for gdir in gdirs:\n",
    "#    if len(gdir.get_ref_mb_data(input_filesuffix='_daily_W5E5')) > 9:\n",
    "#        ref_glaciers_10msm.append(gdir.rgi_id)\n",
    "\n",
    "#rgi = 'RGI60-11.00897'\n",
    "#gdirs = workflow.init_glacier_directories(rgi)"
   ]
  },
  {
   "cell_type": "code",
   "execution_count": 77,
   "id": "49a39edb",
   "metadata": {},
   "outputs": [
    {
     "name": "stderr",
     "output_type": "stream",
     "text": [
      "2022-03-01 15:27:24: oggm.utils: You are trying to set MB data on a tidewater glacier! These data will be ignored by the MB model calibration routine.\n",
      "2022-03-01 15:27:24: oggm.utils: You are trying to set MB data on a tidewater glacier! These data will be ignored by the MB model calibration routine.\n",
      "2022-03-01 15:27:24: oggm.utils: You are trying to set MB data on a tidewater glacier! These data will be ignored by the MB model calibration routine.\n",
      "2022-03-01 15:27:26: oggm.utils: You are trying to set MB data on a tidewater glacier! These data will be ignored by the MB model calibration routine.\n",
      "2022-03-01 15:27:36: oggm.utils: You are trying to set MB data on a tidewater glacier! These data will be ignored by the MB model calibration routine.\n",
      "2022-03-01 15:27:36: oggm.utils: You are trying to set MB data on a tidewater glacier! These data will be ignored by the MB model calibration routine.\n",
      "2022-03-01 15:27:36: oggm.utils: You are trying to set MB data on a tidewater glacier! These data will be ignored by the MB model calibration routine.\n",
      "2022-03-01 15:27:37: oggm.utils: You are trying to set MB data on a tidewater glacier! These data will be ignored by the MB model calibration routine.\n",
      "2022-03-01 15:27:37: oggm.utils: You are trying to set MB data on a tidewater glacier! These data will be ignored by the MB model calibration routine.\n"
     ]
    }
   ],
   "source": [
    "pd_working = pd.DataFrame(ref_candidates, columns=['rgi_id'])\n",
    "pd_working['MB_profile'] = False\n",
    "pd_working['exist_diff_total_winter_summer_above_100'] = False\n",
    "pd_working['len_mb_profile'] = 0\n",
    "pd_working['len_summer_balance'] = 0\n",
    "pd_working['len_winter_balance'] = 0\n",
    "pd_working.index = ref_candidates\n",
    "input_fs = '_monthly_W5E5'\n",
    "working_MB_profiles = []\n",
    "working_summer_MB = {}\n",
    "working_winter_MB = {}\n",
    "for gdir in gdirs:\n",
    "    try:\n",
    "        # mb_profile data:\n",
    "        # check if there are any, and if yes how many years\n",
    "        mb_prof_filtered, ys_glac = get_mean_mb_profile_filtered(gdir, input_fs=input_fs)\n",
    "        working_MB_profiles.append(gdir.rgi_id)\n",
    "        pd_working.loc[gdir.rgi_id, 'MB_profile'] = True\n",
    "        pd_working.loc[gdir.rgi_id, 'len_mb_profile'] = len(ys_glac)\n",
    "    except:\n",
    "        pass\n",
    "    try:\n",
    "        # get annual total and seasonal MB\n",
    "        mb = gdir.get_ref_mb_data(input_filesuffix=input_fs)\n",
    "        # difference between annual and winter+summer: should be normally quite equal\n",
    "        total_min_win_sum = (mb['ANNUAL_BALANCE'] - (mb['WINTER_BALANCE']+mb['SUMMER_BALANCE']))\n",
    "        pd_working.loc[gdir.rgi_id, 'len_annual_balance'] = len(mb['ANNUAL_BALANCE'].dropna())\n",
    "\n",
    "        \n",
    "        # only take those years of seasonal MB where annual balance coincides to winter_balance -summer_balance in a good enough way\n",
    "        # only takes those years where both Winter and Summer balance exist (only thing that makes sense??? )\n",
    "        condi = total_min_win_sum[(total_min_win_sum<100)] # | (np.isnan(total_min_win_sum))]\n",
    "        \n",
    "        pd_working.loc[gdir.rgi_id, 'len_summer_balance'] = len(mb['SUMMER_BALANCE'][condi.index].dropna())\n",
    "        pd_working.loc[gdir.rgi_id, 'len_winter_balance'] = len(mb['WINTER_BALANCE'][condi.index].dropna())\n",
    "        if len(total_min_win_sum[total_min_win_sum>=100]) > 0:\n",
    "            pd_working.loc[gdir.rgi_id, 'exist_diff_total_winter_summer_above_100'] = True\n",
    "\n",
    "    except:\n",
    "        pass"
   ]
  },
  {
   "cell_type": "code",
   "execution_count": 78,
   "id": "ed4d53f4",
   "metadata": {},
   "outputs": [
    {
     "name": "stdout",
     "output_type": "stream",
     "text": [
      "Number of glaciers with at least 1 measurement(s) of annual MB: 259\n",
      "Number of glaciers with at least 1 measurement(s) of winter MB: 181\n",
      "Number of glaciers with at least 1 measurement(s) of summer MB: 181\n",
      "\n",
      "\n",
      "Number of glaciers with at least 5 measurement(s) of annual MB: 247\n",
      "Number of glaciers with at least 5 measurement(s) of winter MB: 159\n",
      "Number of glaciers with at least 5 measurement(s) of summer MB: 159\n",
      "\n",
      "\n",
      "Number of glaciers with at least 10 measurement(s) of annual MB: 180\n",
      "Number of glaciers with at least 10 measurement(s) of winter MB: 114\n",
      "Number of glaciers with at least 10 measurement(s) of summer MB: 114\n",
      "\n",
      "\n"
     ]
    }
   ],
   "source": [
    "for n in [1, 5, 10]:\n",
    "    for tipe in ['annual', 'winter', 'summer']:\n",
    "        print('Number of glaciers with at least {} measurement(s) of {} MB: {}'.format(n, tipe, len(pd_working[pd_working['len_{}_balance'.format(tipe)] >= n])))\n",
    "    print('\\n')"
   ]
  },
  {
   "cell_type": "code",
   "execution_count": 79,
   "id": "d35c3e41",
   "metadata": {},
   "outputs": [],
   "source": [
    "pd_working.to_csv('wgms_data_stats_20220301.csv')"
   ]
  },
  {
   "cell_type": "code",
   "execution_count": 80,
   "id": "623b00d2",
   "metadata": {},
   "outputs": [
    {
     "data": {
      "text/html": [
       "<div>\n",
       "<style scoped>\n",
       "    .dataframe tbody tr th:only-of-type {\n",
       "        vertical-align: middle;\n",
       "    }\n",
       "\n",
       "    .dataframe tbody tr th {\n",
       "        vertical-align: top;\n",
       "    }\n",
       "\n",
       "    .dataframe thead th {\n",
       "        text-align: right;\n",
       "    }\n",
       "</style>\n",
       "<table border=\"1\" class=\"dataframe\">\n",
       "  <thead>\n",
       "    <tr style=\"text-align: right;\">\n",
       "      <th></th>\n",
       "      <th>rgi_id</th>\n",
       "      <th>MB_profile</th>\n",
       "      <th>exist_diff_total_winter_summer_above_100</th>\n",
       "      <th>len_mb_profile</th>\n",
       "      <th>len_summer_balance</th>\n",
       "      <th>len_winter_balance</th>\n",
       "      <th>len_annual_balance</th>\n",
       "    </tr>\n",
       "  </thead>\n",
       "  <tbody>\n",
       "    <tr>\n",
       "      <th>RGI60-19.00595</th>\n",
       "      <td>RGI60-19.00595</td>\n",
       "      <td>True</td>\n",
       "      <td>False</td>\n",
       "      <td>20</td>\n",
       "      <td>0</td>\n",
       "      <td>0</td>\n",
       "      <td>20.0</td>\n",
       "    </tr>\n",
       "    <tr>\n",
       "      <th>RGI60-19.01992</th>\n",
       "      <td>RGI60-19.01992</td>\n",
       "      <td>False</td>\n",
       "      <td>False</td>\n",
       "      <td>0</td>\n",
       "      <td>5</td>\n",
       "      <td>5</td>\n",
       "      <td>6.0</td>\n",
       "    </tr>\n",
       "    <tr>\n",
       "      <th>RGI60-19.02101</th>\n",
       "      <td>RGI60-19.02101</td>\n",
       "      <td>False</td>\n",
       "      <td>False</td>\n",
       "      <td>0</td>\n",
       "      <td>0</td>\n",
       "      <td>0</td>\n",
       "      <td>0.0</td>\n",
       "    </tr>\n",
       "    <tr>\n",
       "      <th>RGI60-19.02056</th>\n",
       "      <td>RGI60-19.02056</td>\n",
       "      <td>False</td>\n",
       "      <td>False</td>\n",
       "      <td>0</td>\n",
       "      <td>18</td>\n",
       "      <td>18</td>\n",
       "      <td>18.0</td>\n",
       "    </tr>\n",
       "    <tr>\n",
       "      <th>RGI60-19.02059</th>\n",
       "      <td>RGI60-19.02059</td>\n",
       "      <td>False</td>\n",
       "      <td>False</td>\n",
       "      <td>0</td>\n",
       "      <td>18</td>\n",
       "      <td>18</td>\n",
       "      <td>18.0</td>\n",
       "    </tr>\n",
       "    <tr>\n",
       "      <th>...</th>\n",
       "      <td>...</td>\n",
       "      <td>...</td>\n",
       "      <td>...</td>\n",
       "      <td>...</td>\n",
       "      <td>...</td>\n",
       "      <td>...</td>\n",
       "      <td>...</td>\n",
       "    </tr>\n",
       "    <tr>\n",
       "      <th>RGI60-02.17023</th>\n",
       "      <td>RGI60-02.17023</td>\n",
       "      <td>False</td>\n",
       "      <td>False</td>\n",
       "      <td>0</td>\n",
       "      <td>15</td>\n",
       "      <td>15</td>\n",
       "      <td>15.0</td>\n",
       "    </tr>\n",
       "    <tr>\n",
       "      <th>RGI60-02.17789</th>\n",
       "      <td>RGI60-02.17789</td>\n",
       "      <td>False</td>\n",
       "      <td>False</td>\n",
       "      <td>0</td>\n",
       "      <td>0</td>\n",
       "      <td>0</td>\n",
       "      <td>10.0</td>\n",
       "    </tr>\n",
       "    <tr>\n",
       "      <th>RGI60-01.01390</th>\n",
       "      <td>RGI60-01.01390</td>\n",
       "      <td>False</td>\n",
       "      <td>False</td>\n",
       "      <td>0</td>\n",
       "      <td>25</td>\n",
       "      <td>25</td>\n",
       "      <td>41.0</td>\n",
       "    </tr>\n",
       "    <tr>\n",
       "      <th>RGI60-01.09162</th>\n",
       "      <td>RGI60-01.09162</td>\n",
       "      <td>False</td>\n",
       "      <td>False</td>\n",
       "      <td>0</td>\n",
       "      <td>41</td>\n",
       "      <td>41</td>\n",
       "      <td>41.0</td>\n",
       "    </tr>\n",
       "    <tr>\n",
       "      <th>RGI60-02.17806</th>\n",
       "      <td>RGI60-02.17806</td>\n",
       "      <td>False</td>\n",
       "      <td>False</td>\n",
       "      <td>0</td>\n",
       "      <td>0</td>\n",
       "      <td>0</td>\n",
       "      <td>36.0</td>\n",
       "    </tr>\n",
       "  </tbody>\n",
       "</table>\n",
       "<p>290 rows × 7 columns</p>\n",
       "</div>"
      ],
      "text/plain": [
       "                        rgi_id  MB_profile  \\\n",
       "RGI60-19.00595  RGI60-19.00595        True   \n",
       "RGI60-19.01992  RGI60-19.01992       False   \n",
       "RGI60-19.02101  RGI60-19.02101       False   \n",
       "RGI60-19.02056  RGI60-19.02056       False   \n",
       "RGI60-19.02059  RGI60-19.02059       False   \n",
       "...                        ...         ...   \n",
       "RGI60-02.17023  RGI60-02.17023       False   \n",
       "RGI60-02.17789  RGI60-02.17789       False   \n",
       "RGI60-01.01390  RGI60-01.01390       False   \n",
       "RGI60-01.09162  RGI60-01.09162       False   \n",
       "RGI60-02.17806  RGI60-02.17806       False   \n",
       "\n",
       "                exist_diff_total_winter_summer_above_100  len_mb_profile  \\\n",
       "RGI60-19.00595                                     False              20   \n",
       "RGI60-19.01992                                     False               0   \n",
       "RGI60-19.02101                                     False               0   \n",
       "RGI60-19.02056                                     False               0   \n",
       "RGI60-19.02059                                     False               0   \n",
       "...                                                  ...             ...   \n",
       "RGI60-02.17023                                     False               0   \n",
       "RGI60-02.17789                                     False               0   \n",
       "RGI60-01.01390                                     False               0   \n",
       "RGI60-01.09162                                     False               0   \n",
       "RGI60-02.17806                                     False               0   \n",
       "\n",
       "                len_summer_balance  len_winter_balance  len_annual_balance  \n",
       "RGI60-19.00595                   0                   0                20.0  \n",
       "RGI60-19.01992                   5                   5                 6.0  \n",
       "RGI60-19.02101                   0                   0                 0.0  \n",
       "RGI60-19.02056                  18                  18                18.0  \n",
       "RGI60-19.02059                  18                  18                18.0  \n",
       "...                            ...                 ...                 ...  \n",
       "RGI60-02.17023                  15                  15                15.0  \n",
       "RGI60-02.17789                   0                   0                10.0  \n",
       "RGI60-01.01390                  25                  25                41.0  \n",
       "RGI60-01.09162                  41                  41                41.0  \n",
       "RGI60-02.17806                   0                   0                36.0  \n",
       "\n",
       "[290 rows x 7 columns]"
      ]
     },
     "execution_count": 80,
     "metadata": {},
     "output_type": "execute_result"
    }
   ],
   "source": [
    "pd_working"
   ]
  },
  {
   "cell_type": "markdown",
   "id": "f5b7f534",
   "metadata": {},
   "source": [
    "reference glacier container that gives information:\n",
    " - if MB profile exists\n",
    " - if there have been large discrepancies between summer + winter compared to annual MB\n",
    " - about amount of years with MB profiles (of at least 5 height msm)\n",
    " - about amount of years with summer mass balance for time period 1980-2019\n",
    " - about amount of years with winter mass balance for time period 1980-2019\n",
    " - about amount of years with annual mass balance for time period 1980-2019"
   ]
  },
  {
   "cell_type": "code",
   "execution_count": 81,
   "id": "ee7ddf34",
   "metadata": {},
   "outputs": [
    {
     "name": "stdout",
     "output_type": "stream",
     "text": [
      "Number of glaciers with sufficient measurements to use MB profiles: 93\n",
      "Number of glaciers with sufficient measurements to use MB profiles and at least 5 seasonal measurements: 80\n",
      "Number of glaciers with sufficient measurements to use MB profiles and at least 10 seasonal measurements: 75\n"
     ]
    }
   ],
   "source": [
    "pd_working_mb_prof = pd_working[pd_working.MB_profile.dropna()]\n",
    "n_mb_prof = len(pd_working_mb_prof)\n",
    "print(f'Number of glaciers with sufficient measurements to use MB profiles: {n_mb_prof}')\n",
    "n = 5\n",
    "n_mb_prof_plus_5_season_mb = len(pd_working_mb_prof[pd_working_mb_prof['len_{}_balance'.format(tipe)] >= n])\n",
    "print(f'Number of glaciers with sufficient measurements to use MB profiles and at least {n} seasonal measurements: {n_mb_prof_plus_5_season_mb}')\n",
    "n = 10\n",
    "n_mb_prof_plus_5_season_mb = len(pd_working_mb_prof[pd_working_mb_prof['len_{}_balance'.format(tipe)] >= n])\n",
    "print(f'Number of glaciers with sufficient measurements to use MB profiles and at least {n} seasonal measurements: {n_mb_prof_plus_5_season_mb}')\n"
   ]
  },
  {
   "cell_type": "code",
   "execution_count": null,
   "id": "af6d43f4",
   "metadata": {},
   "outputs": [],
   "source": []
  },
  {
   "cell_type": "markdown",
   "id": "bfacc0ca",
   "metadata": {},
   "source": [
    "## Let's analyse the seasonal MB data a bit more and save the correct time periods!"
   ]
  },
  {
   "cell_type": "code",
   "execution_count": 82,
   "id": "f206f213",
   "metadata": {},
   "outputs": [],
   "source": [
    "pd_working = pd.read_csv('wgms_data_stats_20220301.csv', index_col = 'Unnamed: 0')"
   ]
  },
  {
   "cell_type": "code",
   "execution_count": 83,
   "id": "623c8b7f",
   "metadata": {},
   "outputs": [],
   "source": [
    "pd_working = pd_working.loc[pd_working.len_annual_balance >= 10] "
   ]
  },
  {
   "cell_type": "code",
   "execution_count": 84,
   "id": "e4cecb28",
   "metadata": {},
   "outputs": [
    {
     "name": "stderr",
     "output_type": "stream",
     "text": [
      "<ipython-input-84-979950e0262e>:5: SettingWithCopyWarning: \n",
      "A value is trying to be set on a copy of a slice from a DataFrame.\n",
      "Try using .loc[row_indexer,col_indexer] = value instead\n",
      "\n",
      "See the caveats in the documentation: https://pandas.pydata.org/pandas-docs/stable/user_guide/indexing.html#returning-a-view-versus-a-copy\n",
      "  pd_working_winter['WGMS_ID'] = pd_link_wgms.loc[pd_working_winter.rgi_id]['WGMS_ID'].values\n"
     ]
    }
   ],
   "source": [
    "pd_working_winter = pd_working.loc[pd_working.len_winter_balance >=5]\n",
    "pd_working_winter.index = pd_working_winter.rgi_id\n",
    "pd_link_wgms,_ = utils.get_wgms_files()#pd.read_csv('/home/lilianschuster/oggm-sample-data/wgms/rgi_wgms_links_20220112.csv')\n",
    "pd_link_wgms.index = pd_link_wgms.RGI60_ID\n",
    "pd_working_winter['WGMS_ID'] = pd_link_wgms.loc[pd_working_winter.rgi_id]['WGMS_ID'].values"
   ]
  },
  {
   "cell_type": "code",
   "execution_count": 85,
   "id": "6b0bdbcf",
   "metadata": {},
   "outputs": [
    {
     "data": {
      "text/plain": [
       "125"
      ]
     },
     "execution_count": 85,
     "metadata": {},
     "output_type": "execute_result"
    }
   ],
   "source": [
    "# amount of glaciers with at least 5 winter mass balances\n",
    "# so far unfiltered, hence I take all even if they do not indicate when their MB estimates were computed\n",
    "len(pd_working_winter.rgi_id.index)"
   ]
  },
  {
   "cell_type": "code",
   "execution_count": 86,
   "id": "41969b02",
   "metadata": {},
   "outputs": [
    {
     "data": {
      "text/html": [
       "<div>\n",
       "<style scoped>\n",
       "    .dataframe tbody tr th:only-of-type {\n",
       "        vertical-align: middle;\n",
       "    }\n",
       "\n",
       "    .dataframe tbody tr th {\n",
       "        vertical-align: top;\n",
       "    }\n",
       "\n",
       "    .dataframe thead th {\n",
       "        text-align: right;\n",
       "    }\n",
       "</style>\n",
       "<table border=\"1\" class=\"dataframe\">\n",
       "  <thead>\n",
       "    <tr style=\"text-align: right;\">\n",
       "      <th></th>\n",
       "      <th>rgi_id</th>\n",
       "      <th>MB_profile</th>\n",
       "      <th>exist_diff_total_winter_summer_above_100</th>\n",
       "      <th>len_mb_profile</th>\n",
       "      <th>len_summer_balance</th>\n",
       "      <th>len_winter_balance</th>\n",
       "      <th>len_annual_balance</th>\n",
       "      <th>WGMS_ID</th>\n",
       "    </tr>\n",
       "    <tr>\n",
       "      <th>rgi_id</th>\n",
       "      <th></th>\n",
       "      <th></th>\n",
       "      <th></th>\n",
       "      <th></th>\n",
       "      <th></th>\n",
       "      <th></th>\n",
       "      <th></th>\n",
       "      <th></th>\n",
       "    </tr>\n",
       "  </thead>\n",
       "  <tbody>\n",
       "    <tr>\n",
       "      <th>RGI60-19.02056</th>\n",
       "      <td>RGI60-19.02056</td>\n",
       "      <td>False</td>\n",
       "      <td>False</td>\n",
       "      <td>0</td>\n",
       "      <td>18</td>\n",
       "      <td>18</td>\n",
       "      <td>18.0</td>\n",
       "      <td>3367</td>\n",
       "    </tr>\n",
       "    <tr>\n",
       "      <th>RGI60-19.02059</th>\n",
       "      <td>RGI60-19.02059</td>\n",
       "      <td>False</td>\n",
       "      <td>False</td>\n",
       "      <td>0</td>\n",
       "      <td>18</td>\n",
       "      <td>18</td>\n",
       "      <td>18.0</td>\n",
       "      <td>3366</td>\n",
       "    </tr>\n",
       "    <tr>\n",
       "      <th>RGI60-17.14681</th>\n",
       "      <td>RGI60-17.14681</td>\n",
       "      <td>False</td>\n",
       "      <td>False</td>\n",
       "      <td>0</td>\n",
       "      <td>6</td>\n",
       "      <td>6</td>\n",
       "      <td>12.0</td>\n",
       "      <td>3903</td>\n",
       "    </tr>\n",
       "    <tr>\n",
       "      <th>RGI60-17.14682</th>\n",
       "      <td>RGI60-17.14682</td>\n",
       "      <td>False</td>\n",
       "      <td>False</td>\n",
       "      <td>0</td>\n",
       "      <td>6</td>\n",
       "      <td>6</td>\n",
       "      <td>12.0</td>\n",
       "      <td>3902</td>\n",
       "    </tr>\n",
       "    <tr>\n",
       "      <th>RGI60-17.02128</th>\n",
       "      <td>RGI60-17.02128</td>\n",
       "      <td>False</td>\n",
       "      <td>False</td>\n",
       "      <td>0</td>\n",
       "      <td>18</td>\n",
       "      <td>18</td>\n",
       "      <td>19.0</td>\n",
       "      <td>2000</td>\n",
       "    </tr>\n",
       "    <tr>\n",
       "      <th>...</th>\n",
       "      <td>...</td>\n",
       "      <td>...</td>\n",
       "      <td>...</td>\n",
       "      <td>...</td>\n",
       "      <td>...</td>\n",
       "      <td>...</td>\n",
       "      <td>...</td>\n",
       "      <td>...</td>\n",
       "    </tr>\n",
       "    <tr>\n",
       "      <th>RGI60-02.17612</th>\n",
       "      <td>RGI60-02.17612</td>\n",
       "      <td>False</td>\n",
       "      <td>False</td>\n",
       "      <td>0</td>\n",
       "      <td>15</td>\n",
       "      <td>15</td>\n",
       "      <td>24.0</td>\n",
       "      <td>1665</td>\n",
       "    </tr>\n",
       "    <tr>\n",
       "      <th>RGI60-02.18778</th>\n",
       "      <td>RGI60-02.18778</td>\n",
       "      <td>False</td>\n",
       "      <td>False</td>\n",
       "      <td>0</td>\n",
       "      <td>41</td>\n",
       "      <td>41</td>\n",
       "      <td>41.0</td>\n",
       "      <td>205</td>\n",
       "    </tr>\n",
       "    <tr>\n",
       "      <th>RGI60-02.17023</th>\n",
       "      <td>RGI60-02.17023</td>\n",
       "      <td>False</td>\n",
       "      <td>False</td>\n",
       "      <td>0</td>\n",
       "      <td>15</td>\n",
       "      <td>15</td>\n",
       "      <td>15.0</td>\n",
       "      <td>218</td>\n",
       "    </tr>\n",
       "    <tr>\n",
       "      <th>RGI60-01.01390</th>\n",
       "      <td>RGI60-01.01390</td>\n",
       "      <td>False</td>\n",
       "      <td>False</td>\n",
       "      <td>0</td>\n",
       "      <td>25</td>\n",
       "      <td>25</td>\n",
       "      <td>41.0</td>\n",
       "      <td>124</td>\n",
       "    </tr>\n",
       "    <tr>\n",
       "      <th>RGI60-01.09162</th>\n",
       "      <td>RGI60-01.09162</td>\n",
       "      <td>False</td>\n",
       "      <td>False</td>\n",
       "      <td>0</td>\n",
       "      <td>41</td>\n",
       "      <td>41</td>\n",
       "      <td>41.0</td>\n",
       "      <td>94</td>\n",
       "    </tr>\n",
       "  </tbody>\n",
       "</table>\n",
       "<p>125 rows × 8 columns</p>\n",
       "</div>"
      ],
      "text/plain": [
       "                        rgi_id  MB_profile  \\\n",
       "rgi_id                                       \n",
       "RGI60-19.02056  RGI60-19.02056       False   \n",
       "RGI60-19.02059  RGI60-19.02059       False   \n",
       "RGI60-17.14681  RGI60-17.14681       False   \n",
       "RGI60-17.14682  RGI60-17.14682       False   \n",
       "RGI60-17.02128  RGI60-17.02128       False   \n",
       "...                        ...         ...   \n",
       "RGI60-02.17612  RGI60-02.17612       False   \n",
       "RGI60-02.18778  RGI60-02.18778       False   \n",
       "RGI60-02.17023  RGI60-02.17023       False   \n",
       "RGI60-01.01390  RGI60-01.01390       False   \n",
       "RGI60-01.09162  RGI60-01.09162       False   \n",
       "\n",
       "                exist_diff_total_winter_summer_above_100  len_mb_profile  \\\n",
       "rgi_id                                                                     \n",
       "RGI60-19.02056                                     False               0   \n",
       "RGI60-19.02059                                     False               0   \n",
       "RGI60-17.14681                                     False               0   \n",
       "RGI60-17.14682                                     False               0   \n",
       "RGI60-17.02128                                     False               0   \n",
       "...                                                  ...             ...   \n",
       "RGI60-02.17612                                     False               0   \n",
       "RGI60-02.18778                                     False               0   \n",
       "RGI60-02.17023                                     False               0   \n",
       "RGI60-01.01390                                     False               0   \n",
       "RGI60-01.09162                                     False               0   \n",
       "\n",
       "                len_summer_balance  len_winter_balance  len_annual_balance  \\\n",
       "rgi_id                                                                       \n",
       "RGI60-19.02056                  18                  18                18.0   \n",
       "RGI60-19.02059                  18                  18                18.0   \n",
       "RGI60-17.14681                   6                   6                12.0   \n",
       "RGI60-17.14682                   6                   6                12.0   \n",
       "RGI60-17.02128                  18                  18                19.0   \n",
       "...                            ...                 ...                 ...   \n",
       "RGI60-02.17612                  15                  15                24.0   \n",
       "RGI60-02.18778                  41                  41                41.0   \n",
       "RGI60-02.17023                  15                  15                15.0   \n",
       "RGI60-01.01390                  25                  25                41.0   \n",
       "RGI60-01.09162                  41                  41                41.0   \n",
       "\n",
       "                WGMS_ID  \n",
       "rgi_id                   \n",
       "RGI60-19.02056     3367  \n",
       "RGI60-19.02059     3366  \n",
       "RGI60-17.14681     3903  \n",
       "RGI60-17.14682     3902  \n",
       "RGI60-17.02128     2000  \n",
       "...                 ...  \n",
       "RGI60-02.17612     1665  \n",
       "RGI60-02.18778      205  \n",
       "RGI60-02.17023      218  \n",
       "RGI60-01.01390      124  \n",
       "RGI60-01.09162       94  \n",
       "\n",
       "[125 rows x 8 columns]"
      ]
     },
     "execution_count": 86,
     "metadata": {},
     "output_type": "execute_result"
    }
   ],
   "source": [
    "pd_working_winter"
   ]
  },
  {
   "cell_type": "markdown",
   "id": "3197ef64",
   "metadata": {},
   "source": [
    "#### Get meta-data about direct glaciological mass balance"
   ]
  },
  {
   "cell_type": "code",
   "execution_count": 87,
   "id": "5d272697",
   "metadata": {},
   "outputs": [],
   "source": [
    "#outf, datadir = utils.get_wgms_files()\n",
    "#path_mb_overview = datadir[:-len('mbdata')] + 'WGMS-FoG-2021-05-E-MASS-BALANCE-OVERVIEW.csv'\n",
    "path_mb_overview = '/home/lilianschuster/Schreibtisch/PhD/wgms_data_analysis/WGMS-FoG-2021-05-E-MASS-BALANCE-OVERVIEW.csv'\n",
    "pd_mb_overview = pd.read_csv(path_mb_overview)\n"
   ]
  },
  {
   "cell_type": "code",
   "execution_count": 88,
   "id": "bb4b72fe",
   "metadata": {},
   "outputs": [
    {
     "data": {
      "text/plain": [
       "Index(['POLITICAL_UNIT', 'NAME', 'WGMS_ID', 'Year', 'TIME_SYSTEM',\n",
       "       'BEGIN_PERIOD', 'END_WINTER', 'END_PERIOD', 'ELA_PREFIX', 'ELA',\n",
       "       'ELA_UNC', 'MIN_SITES_ACC', 'MAX_SITES_ACC', 'MIN_SITES_ABL',\n",
       "       'MAX_SITES_ABL', 'ACC_AREA', 'ACC_AREA_UNC', 'ABL_AREA', 'ABL_AREA_UNC',\n",
       "       'AAR', 'PUB_IN_MBB', 'PUB_IN_FOG', 'INVESTIGATOR', 'SPONS_AGENCY',\n",
       "       'REFERENCE', 'REMARKS'],\n",
       "      dtype='object')"
      ]
     },
     "execution_count": 88,
     "metadata": {},
     "output_type": "execute_result"
    }
   ],
   "source": [
    "pd_mb_overview.columns"
   ]
  },
  {
   "cell_type": "code",
   "execution_count": 89,
   "id": "e079b39b",
   "metadata": {},
   "outputs": [],
   "source": [
    "#pd_dates=pd.read_csv('/home/lilianschuster/Schreibtisch/PhD/wgms_data_analysis/WGMS-FoG-2021-05-E-MASS-BALANCE-OVERVIEW.csv')[['Year', 'BEGIN_PERIOD','END_PERIOD',\n",
    "#                                                                                                                                      'END_WINTER', 'WGMS_ID', 'TIME_SYSTEM']]#.dropna()\n",
    "pd_mb_overview = pd_mb_overview[['Year', 'BEGIN_PERIOD', 'END_PERIOD', 'END_WINTER', 'WGMS_ID', 'TIME_SYSTEM']]"
   ]
  },
  {
   "cell_type": "markdown",
   "id": "c1250e8c",
   "metadata": {},
   "source": [
    "we remove those measurements of glaciers where no time period is given (either no begin_period, end_period or no end_winter!)\n"
   ]
  },
  {
   "cell_type": "code",
   "execution_count": 90,
   "id": "1a2b5668",
   "metadata": {},
   "outputs": [
    {
     "data": {
      "text/plain": [
       "216"
      ]
     },
     "execution_count": 90,
     "metadata": {},
     "output_type": "execute_result"
    }
   ],
   "source": [
    "pd_mb_overview = pd_mb_overview.loc[pd_mb_overview[['BEGIN_PERIOD', 'END_PERIOD', 'END_WINTER']].dropna().index]\n",
    "# amount of glaciers where time stamps exist\n",
    "len(pd_mb_overview.WGMS_ID.unique())"
   ]
  },
  {
   "cell_type": "markdown",
   "id": "8f504caa",
   "metadata": {},
   "source": [
    "attention, for some glaciers, there exist a \"END_WINTER\" timestamp but not an actual winter balance!!! (e.g. HEF). Let's make sure to remove those measurements as well:\n",
    "\n"
   ]
  },
  {
   "cell_type": "code",
   "execution_count": 91,
   "id": "25eb50e8",
   "metadata": {},
   "outputs": [],
   "source": [
    "drop_index = []\n",
    "for gdir in gdirs:\n",
    "    ref_mb = gdir.get_ref_mb_data(input_filesuffix=input_fs)\n",
    "    if len(ref_mb.WGMS_ID.values) > 0:\n",
    "        #try:\n",
    "        t = pd_mb_overview.loc[pd_mb_overview.WGMS_ID == ref_mb.WGMS_ID.unique()[0]]\n",
    "        # those that are in the Overview but are np.NaN or in the Winter balance should be dropped\n",
    "        # e.g. the case for HEF\n",
    "        #ref_mb['WINTER_BALANCE'][np.isnan(ref_mb['WINTER_BALANCE'])][t.Year].index\n",
    "        for ind in t.index: \n",
    "            #if len(to_drop) >0:\n",
    "            #    drop_index.append(t.loc[t.Year == t_d].index.values)    \n",
    "            t_d = t.Year.loc[ind]\n",
    "            if t_d not in ref_mb['WINTER_BALANCE'].dropna().index:\n",
    "                drop_index.append(ind)\n",
    "        #except:\n",
    "        # ok, this glacier has not at least 5 winter MB estimates\n",
    "        #pass\n",
    "pd_mb_overview = pd_mb_overview.drop(drop_index)"
   ]
  },
  {
   "cell_type": "code",
   "execution_count": 92,
   "id": "347271cf",
   "metadata": {},
   "outputs": [
    {
     "data": {
      "text/html": [
       "<div>\n",
       "<style scoped>\n",
       "    .dataframe tbody tr th:only-of-type {\n",
       "        vertical-align: middle;\n",
       "    }\n",
       "\n",
       "    .dataframe tbody tr th {\n",
       "        vertical-align: top;\n",
       "    }\n",
       "\n",
       "    .dataframe thead th {\n",
       "        text-align: right;\n",
       "    }\n",
       "</style>\n",
       "<table border=\"1\" class=\"dataframe\">\n",
       "  <thead>\n",
       "    <tr style=\"text-align: right;\">\n",
       "      <th></th>\n",
       "      <th>Year</th>\n",
       "      <th>BEGIN_PERIOD</th>\n",
       "      <th>END_PERIOD</th>\n",
       "      <th>END_WINTER</th>\n",
       "      <th>WGMS_ID</th>\n",
       "      <th>TIME_SYSTEM</th>\n",
       "    </tr>\n",
       "  </thead>\n",
       "  <tbody>\n",
       "    <tr>\n",
       "      <th>2001</th>\n",
       "      <td>1979</td>\n",
       "      <td>19780905.0</td>\n",
       "      <td>19790911.0</td>\n",
       "      <td>19790510.0</td>\n",
       "      <td>360</td>\n",
       "      <td>NaN</td>\n",
       "    </tr>\n",
       "    <tr>\n",
       "      <th>2002</th>\n",
       "      <td>1980</td>\n",
       "      <td>19790911.0</td>\n",
       "      <td>19800916.0</td>\n",
       "      <td>19800514.0</td>\n",
       "      <td>360</td>\n",
       "      <td>NaN</td>\n",
       "    </tr>\n",
       "    <tr>\n",
       "      <th>2003</th>\n",
       "      <td>1981</td>\n",
       "      <td>19800916.0</td>\n",
       "      <td>19810915.0</td>\n",
       "      <td>19810609.0</td>\n",
       "      <td>360</td>\n",
       "      <td>NaN</td>\n",
       "    </tr>\n",
       "    <tr>\n",
       "      <th>2004</th>\n",
       "      <td>1982</td>\n",
       "      <td>19810915.0</td>\n",
       "      <td>19820921.0</td>\n",
       "      <td>19820609.0</td>\n",
       "      <td>360</td>\n",
       "      <td>NaN</td>\n",
       "    </tr>\n",
       "    <tr>\n",
       "      <th>2005</th>\n",
       "      <td>1983</td>\n",
       "      <td>19820921.0</td>\n",
       "      <td>19830920.0</td>\n",
       "      <td>19830527.0</td>\n",
       "      <td>360</td>\n",
       "      <td>NaN</td>\n",
       "    </tr>\n",
       "    <tr>\n",
       "      <th>2006</th>\n",
       "      <td>1984</td>\n",
       "      <td>19830920.0</td>\n",
       "      <td>19841018.0</td>\n",
       "      <td>19840611.0</td>\n",
       "      <td>360</td>\n",
       "      <td>NaN</td>\n",
       "    </tr>\n",
       "    <tr>\n",
       "      <th>2007</th>\n",
       "      <td>1985</td>\n",
       "      <td>19840921.0</td>\n",
       "      <td>19850930.0</td>\n",
       "      <td>19850621.0</td>\n",
       "      <td>360</td>\n",
       "      <td>NaN</td>\n",
       "    </tr>\n",
       "    <tr>\n",
       "      <th>2008</th>\n",
       "      <td>1986</td>\n",
       "      <td>19850929.0</td>\n",
       "      <td>19860930.0</td>\n",
       "      <td>19860619.0</td>\n",
       "      <td>360</td>\n",
       "      <td>NaN</td>\n",
       "    </tr>\n",
       "    <tr>\n",
       "      <th>2009</th>\n",
       "      <td>1987</td>\n",
       "      <td>19860928.0</td>\n",
       "      <td>19870928.0</td>\n",
       "      <td>19870621.0</td>\n",
       "      <td>360</td>\n",
       "      <td>NaN</td>\n",
       "    </tr>\n",
       "    <tr>\n",
       "      <th>2010</th>\n",
       "      <td>1988</td>\n",
       "      <td>19871010.0</td>\n",
       "      <td>19881004.0</td>\n",
       "      <td>19880611.0</td>\n",
       "      <td>360</td>\n",
       "      <td>NaN</td>\n",
       "    </tr>\n",
       "    <tr>\n",
       "      <th>2011</th>\n",
       "      <td>1989</td>\n",
       "      <td>19881005.0</td>\n",
       "      <td>19891005.0</td>\n",
       "      <td>19890531.0</td>\n",
       "      <td>360</td>\n",
       "      <td>NaN</td>\n",
       "    </tr>\n",
       "    <tr>\n",
       "      <th>2012</th>\n",
       "      <td>1990</td>\n",
       "      <td>19891006.0</td>\n",
       "      <td>19901011.0</td>\n",
       "      <td>19900511.0</td>\n",
       "      <td>360</td>\n",
       "      <td>NaN</td>\n",
       "    </tr>\n",
       "    <tr>\n",
       "      <th>2013</th>\n",
       "      <td>1991</td>\n",
       "      <td>19901012.0</td>\n",
       "      <td>19910925.0</td>\n",
       "      <td>19910617.0</td>\n",
       "      <td>360</td>\n",
       "      <td>NaN</td>\n",
       "    </tr>\n",
       "    <tr>\n",
       "      <th>2014</th>\n",
       "      <td>1992</td>\n",
       "      <td>19911009.0</td>\n",
       "      <td>19921008.0</td>\n",
       "      <td>19920523.0</td>\n",
       "      <td>360</td>\n",
       "      <td>NaN</td>\n",
       "    </tr>\n",
       "    <tr>\n",
       "      <th>2015</th>\n",
       "      <td>1993</td>\n",
       "      <td>19929999.0</td>\n",
       "      <td>19939999.0</td>\n",
       "      <td>19939999.0</td>\n",
       "      <td>360</td>\n",
       "      <td>NaN</td>\n",
       "    </tr>\n",
       "    <tr>\n",
       "      <th>2016</th>\n",
       "      <td>1994</td>\n",
       "      <td>19939999.0</td>\n",
       "      <td>19949999.0</td>\n",
       "      <td>19949999.0</td>\n",
       "      <td>360</td>\n",
       "      <td>NaN</td>\n",
       "    </tr>\n",
       "    <tr>\n",
       "      <th>2017</th>\n",
       "      <td>1995</td>\n",
       "      <td>19949999.0</td>\n",
       "      <td>19959999.0</td>\n",
       "      <td>19959999.0</td>\n",
       "      <td>360</td>\n",
       "      <td>NaN</td>\n",
       "    </tr>\n",
       "    <tr>\n",
       "      <th>2018</th>\n",
       "      <td>1996</td>\n",
       "      <td>19959999.0</td>\n",
       "      <td>19969999.0</td>\n",
       "      <td>19969999.0</td>\n",
       "      <td>360</td>\n",
       "      <td>NaN</td>\n",
       "    </tr>\n",
       "    <tr>\n",
       "      <th>2019</th>\n",
       "      <td>1997</td>\n",
       "      <td>19960930.0</td>\n",
       "      <td>19970919.0</td>\n",
       "      <td>19970517.0</td>\n",
       "      <td>360</td>\n",
       "      <td>NaN</td>\n",
       "    </tr>\n",
       "    <tr>\n",
       "      <th>2020</th>\n",
       "      <td>1998</td>\n",
       "      <td>19970919.0</td>\n",
       "      <td>19981003.0</td>\n",
       "      <td>19980613.0</td>\n",
       "      <td>360</td>\n",
       "      <td>NaN</td>\n",
       "    </tr>\n",
       "    <tr>\n",
       "      <th>2021</th>\n",
       "      <td>1999</td>\n",
       "      <td>19981122.0</td>\n",
       "      <td>19990823.0</td>\n",
       "      <td>19990603.0</td>\n",
       "      <td>360</td>\n",
       "      <td>NaN</td>\n",
       "    </tr>\n",
       "  </tbody>\n",
       "</table>\n",
       "</div>"
      ],
      "text/plain": [
       "      Year  BEGIN_PERIOD  END_PERIOD  END_WINTER  WGMS_ID TIME_SYSTEM\n",
       "2001  1979    19780905.0  19790911.0  19790510.0      360         NaN\n",
       "2002  1980    19790911.0  19800916.0  19800514.0      360         NaN\n",
       "2003  1981    19800916.0  19810915.0  19810609.0      360         NaN\n",
       "2004  1982    19810915.0  19820921.0  19820609.0      360         NaN\n",
       "2005  1983    19820921.0  19830920.0  19830527.0      360         NaN\n",
       "2006  1984    19830920.0  19841018.0  19840611.0      360         NaN\n",
       "2007  1985    19840921.0  19850930.0  19850621.0      360         NaN\n",
       "2008  1986    19850929.0  19860930.0  19860619.0      360         NaN\n",
       "2009  1987    19860928.0  19870928.0  19870621.0      360         NaN\n",
       "2010  1988    19871010.0  19881004.0  19880611.0      360         NaN\n",
       "2011  1989    19881005.0  19891005.0  19890531.0      360         NaN\n",
       "2012  1990    19891006.0  19901011.0  19900511.0      360         NaN\n",
       "2013  1991    19901012.0  19910925.0  19910617.0      360         NaN\n",
       "2014  1992    19911009.0  19921008.0  19920523.0      360         NaN\n",
       "2015  1993    19929999.0  19939999.0  19939999.0      360         NaN\n",
       "2016  1994    19939999.0  19949999.0  19949999.0      360         NaN\n",
       "2017  1995    19949999.0  19959999.0  19959999.0      360         NaN\n",
       "2018  1996    19959999.0  19969999.0  19969999.0      360         NaN\n",
       "2019  1997    19960930.0  19970919.0  19970517.0      360         NaN\n",
       "2020  1998    19970919.0  19981003.0  19980613.0      360         NaN\n",
       "2021  1999    19981122.0  19990823.0  19990603.0      360         NaN"
      ]
     },
     "execution_count": 92,
     "metadata": {},
     "output_type": "execute_result"
    }
   ],
   "source": [
    "# let's have a look at Aletsch glacier\n",
    "pd_mb_overview.loc[pd_mb_overview.WGMS_ID == 360] \n",
    "# ok for Aletsch glacier, TIME_SYSTEM is not known and perios are e.g. very variable !!!"
   ]
  },
  {
   "cell_type": "code",
   "execution_count": 93,
   "id": "f21d1188",
   "metadata": {},
   "outputs": [
    {
     "data": {
      "text/plain": [
       "2404"
      ]
     },
     "execution_count": 93,
     "metadata": {},
     "output_type": "execute_result"
    }
   ],
   "source": [
    "# amount of measurement points in total(years for each glacier)\n",
    "len(pd_mb_overview)"
   ]
  },
  {
   "cell_type": "markdown",
   "id": "f2c67112",
   "metadata": {},
   "source": [
    "Now take only data that is inside of the W5E5 climate time span:\n"
   ]
  },
  {
   "cell_type": "code",
   "execution_count": 94,
   "id": "e921684c",
   "metadata": {},
   "outputs": [],
   "source": [
    "pd_mb_overview = pd_mb_overview[(pd_mb_overview.Year>=1980) & (pd_mb_overview.Year <2020)]"
   ]
  },
  {
   "cell_type": "code",
   "execution_count": 95,
   "id": "91ed6438",
   "metadata": {},
   "outputs": [
    {
     "data": {
      "text/plain": [
       "2289"
      ]
     },
     "execution_count": 95,
     "metadata": {},
     "output_type": "execute_result"
    }
   ],
   "source": [
    "# amount of measurements in total that are left\n",
    "len(pd_mb_overview)"
   ]
  },
  {
   "cell_type": "markdown",
   "id": "fd64a2ff",
   "metadata": {},
   "source": [
    "Now only take those glaciers with at least 10 direct glaciological measurements and at least 5 winter MB measurements \n"
   ]
  },
  {
   "cell_type": "code",
   "execution_count": 96,
   "id": "9a06abef",
   "metadata": {},
   "outputs": [],
   "source": [
    "for k in pd_mb_overview.index:\n",
    "    if np.any(pd_working_winter.WGMS_ID == pd_mb_overview.loc[k].WGMS_ID):\n",
    "        pass\n",
    "    else:\n",
    "        pd_mb_overview = pd_mb_overview.drop(k)"
   ]
  },
  {
   "cell_type": "code",
   "execution_count": 97,
   "id": "35849f41",
   "metadata": {},
   "outputs": [
    {
     "data": {
      "text/plain": [
       "1862"
      ]
     },
     "execution_count": 97,
     "metadata": {},
     "output_type": "execute_result"
    }
   ],
   "source": [
    "# amount of measurements in total that are left\n",
    "len(pd_mb_overview)"
   ]
  },
  {
   "cell_type": "markdown",
   "id": "4a6f455a",
   "metadata": {},
   "source": [
    "Drop those seasonal measurements where it is unknown when they were measured (written '9999') and add month and day indices:"
   ]
  },
  {
   "cell_type": "code",
   "execution_count": 98,
   "id": "aac6f2c5",
   "metadata": {},
   "outputs": [],
   "source": [
    "glac_msm_9999 = []\n",
    "for period in ['END_WINTER', 'BEGIN_PERIOD', 'END_PERIOD']:\n",
    "    m_list = []\n",
    "    d_list = []\n",
    "    for k in pd_mb_overview.index:\n",
    "        if ('9999' in str(pd_mb_overview[period].loc[k])):\n",
    "            #print(k)\n",
    "            glac_msm_9999.append(pd_mb_overview.loc[k].WGMS_ID)\n",
    "            date_end_winter= pd_mb_overview.drop(k)\n",
    "        else:\n",
    "            m = int(str(pd_mb_overview[period].loc[k])[4:6])\n",
    "            d = int(str(pd_mb_overview[period].loc[k])[6:8])\n",
    "            if m > 12:\n",
    "                print('obviously day and month numbers were interchanged')\n",
    "                print(pd_mb_overview[period].loc[k])\n",
    "                m = int(str(pd_mb_overview[period].loc[k])[6:8])\n",
    "                d = int(str(pd_mb_overview[period].loc[k])[4:6])\n",
    "            else:\n",
    "                m = m\n",
    "                d = d\n",
    "            m_list.append(m)\n",
    "            d_list.append(d)\n",
    "\n",
    "            # add month and day indices to the list \n",
    "            pd_mb_overview.loc[k,f'month_{period}'] = m\n",
    "            pd_mb_overview.loc[k,f'day_{period}'] = d"
   ]
  },
  {
   "cell_type": "code",
   "execution_count": 99,
   "id": "83bbcf52",
   "metadata": {},
   "outputs": [
    {
     "data": {
      "text/plain": [
       "array([ 124,  205,  218,  297,  302,  322,  323,  326,  332,  334,  360,\n",
       "        366,  367,  393,  394,  395,  420,  726,  761,  805,  813, 2670,\n",
       "       3332, 3334])"
      ]
     },
     "execution_count": 99,
     "metadata": {},
     "output_type": "execute_result"
    }
   ],
   "source": [
    "# WGMS ids with glaciers where there are \"9999\" measurements! \n",
    "np.unique(glac_msm_9999) "
   ]
  },
  {
   "cell_type": "code",
   "execution_count": 100,
   "id": "428c2e61",
   "metadata": {},
   "outputs": [
    {
     "data": {
      "text/plain": [
       "281"
      ]
     },
     "execution_count": 100,
     "metadata": {},
     "output_type": "execute_result"
    }
   ],
   "source": [
    "len(glac_msm_9999)"
   ]
  },
  {
   "cell_type": "code",
   "execution_count": 101,
   "id": "7a2c3c78",
   "metadata": {},
   "outputs": [
    {
     "data": {
      "text/plain": [
       "1862"
      ]
     },
     "execution_count": 101,
     "metadata": {},
     "output_type": "execute_result"
    }
   ],
   "source": [
    "# amount of measurements in total\n",
    "len(pd_mb_overview)"
   ]
  },
  {
   "cell_type": "code",
   "execution_count": 102,
   "id": "5265f798",
   "metadata": {},
   "outputs": [
    {
     "name": "stdout",
     "output_type": "stream",
     "text": [
      "amount of glaciers with at least 10 direct glaciological measurements and 5 winter MB in the timespan 1980-2019: n=108\n"
     ]
    }
   ],
   "source": [
    "print('amount of glaciers with at least 10 direct glaciological measurements and 5 winter MB in the timespan 1980-2019: n={}'.format(len(np.unique(pd_mb_overview.WGMS_ID))))"
   ]
  },
  {
   "cell_type": "code",
   "execution_count": 103,
   "id": "00cb7979",
   "metadata": {},
   "outputs": [],
   "source": [
    "for period in ['BEGIN_PERIOD', 'END_PERIOD', 'END_WINTER']:\n",
    "    pd_mb_overview[period] = pd.to_datetime(pd_mb_overview[period].astype(int).astype(str), format = '%Y%m%d', errors = 'coerce')"
   ]
  },
  {
   "cell_type": "code",
   "execution_count": 104,
   "id": "3f313803",
   "metadata": {},
   "outputs": [
    {
     "data": {
      "text/plain": [
       "133     12.0\n",
       "134     12.0\n",
       "135     11.0\n",
       "136     12.0\n",
       "137     12.0\n",
       "        ... \n",
       "7670     5.0\n",
       "7671     5.0\n",
       "7672     5.0\n",
       "7673     5.0\n",
       "7674     5.0\n",
       "Name: END_WINTER, Length: 1862, dtype: float64"
      ]
     },
     "execution_count": 104,
     "metadata": {},
     "output_type": "execute_result"
    }
   ],
   "source": [
    "# how we can extract day /month year  from datetime format\n",
    "pd_mb_overview[period].apply(lambda d: d.month)"
   ]
  },
  {
   "cell_type": "code",
   "execution_count": 105,
   "id": "23e58095",
   "metadata": {},
   "outputs": [
    {
     "data": {
      "text/plain": [
       "108"
      ]
     },
     "execution_count": 105,
     "metadata": {},
     "output_type": "execute_result"
    }
   ],
   "source": [
    "wgms_w_enough_msm = pd_mb_overview.WGMS_ID.value_counts()[pd_mb_overview.WGMS_ID.value_counts()>=5].index\n",
    "len(pd_mb_overview.WGMS_ID.value_counts())"
   ]
  },
  {
   "cell_type": "code",
   "execution_count": 106,
   "id": "d130ca51",
   "metadata": {},
   "outputs": [],
   "source": [
    "# drop those glaciers where we do not have enough seasonal measurements (because some have been dropped in the mean time ...)\n",
    "for k in pd_mb_overview.index:\n",
    "    if np.any(pd_mb_overview.loc[k].WGMS_ID == wgms_w_enough_msm):\n",
    "        pass\n",
    "    else:\n",
    "        pd_mb_overview = pd_mb_overview.drop(k)\n"
   ]
  },
  {
   "cell_type": "code",
   "execution_count": 107,
   "id": "e7d8126d",
   "metadata": {},
   "outputs": [
    {
     "data": {
      "text/plain": [
       "99"
      ]
     },
     "execution_count": 107,
     "metadata": {},
     "output_type": "execute_result"
    }
   ],
   "source": [
    "pd_mb_overview = pd_mb_overview.loc[pd_mb_overview[['END_WINTER', 'BEGIN_PERIOD', 'END_PERIOD']].dropna().index]\n",
    "len(pd_mb_overview.WGMS_ID.value_counts())"
   ]
  },
  {
   "cell_type": "code",
   "execution_count": 108,
   "id": "a4650821",
   "metadata": {},
   "outputs": [
    {
     "data": {
      "text/html": [
       "<div>\n",
       "<style scoped>\n",
       "    .dataframe tbody tr th:only-of-type {\n",
       "        vertical-align: middle;\n",
       "    }\n",
       "\n",
       "    .dataframe tbody tr th {\n",
       "        vertical-align: top;\n",
       "    }\n",
       "\n",
       "    .dataframe thead th {\n",
       "        text-align: right;\n",
       "    }\n",
       "</style>\n",
       "<table border=\"1\" class=\"dataframe\">\n",
       "  <thead>\n",
       "    <tr style=\"text-align: right;\">\n",
       "      <th></th>\n",
       "      <th>Year</th>\n",
       "      <th>BEGIN_PERIOD</th>\n",
       "      <th>END_PERIOD</th>\n",
       "      <th>END_WINTER</th>\n",
       "      <th>WGMS_ID</th>\n",
       "      <th>TIME_SYSTEM</th>\n",
       "      <th>month_END_WINTER</th>\n",
       "      <th>day_END_WINTER</th>\n",
       "      <th>month_BEGIN_PERIOD</th>\n",
       "      <th>day_BEGIN_PERIOD</th>\n",
       "      <th>month_END_PERIOD</th>\n",
       "      <th>day_END_PERIOD</th>\n",
       "    </tr>\n",
       "  </thead>\n",
       "  <tbody>\n",
       "    <tr>\n",
       "      <th>133</th>\n",
       "      <td>2002</td>\n",
       "      <td>2001-02-20</td>\n",
       "      <td>2002-01-09</td>\n",
       "      <td>2001-12-08</td>\n",
       "      <td>3367</td>\n",
       "      <td>COM</td>\n",
       "      <td>12.0</td>\n",
       "      <td>8.0</td>\n",
       "      <td>2.0</td>\n",
       "      <td>20.0</td>\n",
       "      <td>1.0</td>\n",
       "      <td>9.0</td>\n",
       "    </tr>\n",
       "    <tr>\n",
       "      <th>134</th>\n",
       "      <td>2003</td>\n",
       "      <td>2002-01-10</td>\n",
       "      <td>2003-02-14</td>\n",
       "      <td>2002-12-03</td>\n",
       "      <td>3367</td>\n",
       "      <td>COM</td>\n",
       "      <td>12.0</td>\n",
       "      <td>3.0</td>\n",
       "      <td>1.0</td>\n",
       "      <td>10.0</td>\n",
       "      <td>2.0</td>\n",
       "      <td>14.0</td>\n",
       "    </tr>\n",
       "    <tr>\n",
       "      <th>135</th>\n",
       "      <td>2004</td>\n",
       "      <td>2003-02-15</td>\n",
       "      <td>2004-02-17</td>\n",
       "      <td>2003-11-24</td>\n",
       "      <td>3367</td>\n",
       "      <td>COM</td>\n",
       "      <td>11.0</td>\n",
       "      <td>24.0</td>\n",
       "      <td>2.0</td>\n",
       "      <td>15.0</td>\n",
       "      <td>2.0</td>\n",
       "      <td>17.0</td>\n",
       "    </tr>\n",
       "    <tr>\n",
       "      <th>136</th>\n",
       "      <td>2005</td>\n",
       "      <td>2004-02-18</td>\n",
       "      <td>2005-02-17</td>\n",
       "      <td>2004-12-06</td>\n",
       "      <td>3367</td>\n",
       "      <td>COM</td>\n",
       "      <td>12.0</td>\n",
       "      <td>6.0</td>\n",
       "      <td>2.0</td>\n",
       "      <td>18.0</td>\n",
       "      <td>2.0</td>\n",
       "      <td>17.0</td>\n",
       "    </tr>\n",
       "    <tr>\n",
       "      <th>137</th>\n",
       "      <td>2006</td>\n",
       "      <td>2005-02-18</td>\n",
       "      <td>2006-02-22</td>\n",
       "      <td>2005-12-08</td>\n",
       "      <td>3367</td>\n",
       "      <td>COM</td>\n",
       "      <td>12.0</td>\n",
       "      <td>8.0</td>\n",
       "      <td>2.0</td>\n",
       "      <td>18.0</td>\n",
       "      <td>2.0</td>\n",
       "      <td>22.0</td>\n",
       "    </tr>\n",
       "    <tr>\n",
       "      <th>...</th>\n",
       "      <td>...</td>\n",
       "      <td>...</td>\n",
       "      <td>...</td>\n",
       "      <td>...</td>\n",
       "      <td>...</td>\n",
       "      <td>...</td>\n",
       "      <td>...</td>\n",
       "      <td>...</td>\n",
       "      <td>...</td>\n",
       "      <td>...</td>\n",
       "      <td>...</td>\n",
       "      <td>...</td>\n",
       "    </tr>\n",
       "    <tr>\n",
       "      <th>7670</th>\n",
       "      <td>2015</td>\n",
       "      <td>2014-10-02</td>\n",
       "      <td>2015-09-09</td>\n",
       "      <td>2015-05-09</td>\n",
       "      <td>94</td>\n",
       "      <td>FLO</td>\n",
       "      <td>5.0</td>\n",
       "      <td>9.0</td>\n",
       "      <td>10.0</td>\n",
       "      <td>2.0</td>\n",
       "      <td>9.0</td>\n",
       "      <td>9.0</td>\n",
       "    </tr>\n",
       "    <tr>\n",
       "      <th>7671</th>\n",
       "      <td>2016</td>\n",
       "      <td>2015-09-09</td>\n",
       "      <td>2016-10-15</td>\n",
       "      <td>2016-05-09</td>\n",
       "      <td>94</td>\n",
       "      <td>FLO</td>\n",
       "      <td>5.0</td>\n",
       "      <td>9.0</td>\n",
       "      <td>9.0</td>\n",
       "      <td>9.0</td>\n",
       "      <td>10.0</td>\n",
       "      <td>15.0</td>\n",
       "    </tr>\n",
       "    <tr>\n",
       "      <th>7672</th>\n",
       "      <td>2017</td>\n",
       "      <td>2016-10-15</td>\n",
       "      <td>2017-09-30</td>\n",
       "      <td>2017-05-28</td>\n",
       "      <td>94</td>\n",
       "      <td>FLO</td>\n",
       "      <td>5.0</td>\n",
       "      <td>28.0</td>\n",
       "      <td>10.0</td>\n",
       "      <td>15.0</td>\n",
       "      <td>9.0</td>\n",
       "      <td>30.0</td>\n",
       "    </tr>\n",
       "    <tr>\n",
       "      <th>7673</th>\n",
       "      <td>2018</td>\n",
       "      <td>2017-09-30</td>\n",
       "      <td>2018-10-02</td>\n",
       "      <td>2018-05-24</td>\n",
       "      <td>94</td>\n",
       "      <td>FLO</td>\n",
       "      <td>5.0</td>\n",
       "      <td>24.0</td>\n",
       "      <td>9.0</td>\n",
       "      <td>30.0</td>\n",
       "      <td>10.0</td>\n",
       "      <td>2.0</td>\n",
       "    </tr>\n",
       "    <tr>\n",
       "      <th>7674</th>\n",
       "      <td>2019</td>\n",
       "      <td>2018-10-02</td>\n",
       "      <td>2019-10-10</td>\n",
       "      <td>2019-05-11</td>\n",
       "      <td>94</td>\n",
       "      <td>FLO</td>\n",
       "      <td>5.0</td>\n",
       "      <td>11.0</td>\n",
       "      <td>10.0</td>\n",
       "      <td>2.0</td>\n",
       "      <td>10.0</td>\n",
       "      <td>10.0</td>\n",
       "    </tr>\n",
       "  </tbody>\n",
       "</table>\n",
       "<p>1629 rows × 12 columns</p>\n",
       "</div>"
      ],
      "text/plain": [
       "      Year BEGIN_PERIOD END_PERIOD END_WINTER  WGMS_ID TIME_SYSTEM  \\\n",
       "133   2002   2001-02-20 2002-01-09 2001-12-08     3367         COM   \n",
       "134   2003   2002-01-10 2003-02-14 2002-12-03     3367         COM   \n",
       "135   2004   2003-02-15 2004-02-17 2003-11-24     3367         COM   \n",
       "136   2005   2004-02-18 2005-02-17 2004-12-06     3367         COM   \n",
       "137   2006   2005-02-18 2006-02-22 2005-12-08     3367         COM   \n",
       "...    ...          ...        ...        ...      ...         ...   \n",
       "7670  2015   2014-10-02 2015-09-09 2015-05-09       94         FLO   \n",
       "7671  2016   2015-09-09 2016-10-15 2016-05-09       94         FLO   \n",
       "7672  2017   2016-10-15 2017-09-30 2017-05-28       94         FLO   \n",
       "7673  2018   2017-09-30 2018-10-02 2018-05-24       94         FLO   \n",
       "7674  2019   2018-10-02 2019-10-10 2019-05-11       94         FLO   \n",
       "\n",
       "      month_END_WINTER  day_END_WINTER  month_BEGIN_PERIOD  day_BEGIN_PERIOD  \\\n",
       "133               12.0             8.0                 2.0              20.0   \n",
       "134               12.0             3.0                 1.0              10.0   \n",
       "135               11.0            24.0                 2.0              15.0   \n",
       "136               12.0             6.0                 2.0              18.0   \n",
       "137               12.0             8.0                 2.0              18.0   \n",
       "...                ...             ...                 ...               ...   \n",
       "7670               5.0             9.0                10.0               2.0   \n",
       "7671               5.0             9.0                 9.0               9.0   \n",
       "7672               5.0            28.0                10.0              15.0   \n",
       "7673               5.0            24.0                 9.0              30.0   \n",
       "7674               5.0            11.0                10.0               2.0   \n",
       "\n",
       "      month_END_PERIOD  day_END_PERIOD  \n",
       "133                1.0             9.0  \n",
       "134                2.0            14.0  \n",
       "135                2.0            17.0  \n",
       "136                2.0            17.0  \n",
       "137                2.0            22.0  \n",
       "...                ...             ...  \n",
       "7670               9.0             9.0  \n",
       "7671              10.0            15.0  \n",
       "7672               9.0            30.0  \n",
       "7673              10.0             2.0  \n",
       "7674              10.0            10.0  \n",
       "\n",
       "[1629 rows x 12 columns]"
      ]
     },
     "execution_count": 108,
     "metadata": {},
     "output_type": "execute_result"
    }
   ],
   "source": [
    "pd_mb_overview"
   ]
  },
  {
   "cell_type": "code",
   "execution_count": 109,
   "id": "84643178",
   "metadata": {},
   "outputs": [],
   "source": [
    "pd_working_winter.index = pd_working_winter.WGMS_ID"
   ]
  },
  {
   "cell_type": "code",
   "execution_count": 110,
   "id": "a0ac191a",
   "metadata": {},
   "outputs": [],
   "source": [
    "# also save rgi_id \n",
    "for wgms_id in pd_mb_overview.WGMS_ID.unique():\n",
    "        pd_mb_overview.loc[pd_mb_overview.WGMS_ID == wgms_id, 'rgi_id'] = pd_working_winter.loc[wgms_id].rgi_id #.unique()\n",
    "\n"
   ]
  },
  {
   "cell_type": "code",
   "execution_count": 111,
   "id": "6521312b",
   "metadata": {},
   "outputs": [],
   "source": [
    "pd_mb_overview.to_csv('/home/lilianschuster/Schreibtisch/PhD/wgms_data_analysis/mb_overview_seasonal_mb_time_periods_20220301.csv')"
   ]
  },
  {
   "cell_type": "markdown",
   "id": "d4d9eab8",
   "metadata": {},
   "source": [
    "### Some further seasonal MB analysis"
   ]
  },
  {
   "cell_type": "code",
   "execution_count": 72,
   "id": "f0ebad51",
   "metadata": {},
   "outputs": [],
   "source": [
    "pd_mb_overview = pd.read_csv('/home/lilianschuster/Schreibtisch/PhD/wgms_data_analysis/mb_overview_seasonal_mb_time_periods_20220301.csv', index_col = 'Unnamed: 0')"
   ]
  },
  {
   "cell_type": "code",
   "execution_count": 47,
   "id": "5e071756",
   "metadata": {},
   "outputs": [
    {
     "data": {
      "text/plain": [
       "31"
      ]
     },
     "execution_count": 47,
     "metadata": {},
     "output_type": "execute_result"
    }
   ],
   "source": [
    "pd_mb_overview[period].astype(np.datetime64).iloc[0].days_in_month"
   ]
  },
  {
   "cell_type": "code",
   "execution_count": 48,
   "id": "d89b6904",
   "metadata": {},
   "outputs": [
    {
     "name": "stdout",
     "output_type": "stream",
     "text": [
      "amount of glaciers with unknown np.NaN given TIME_SYSTEM: \n"
     ]
    },
    {
     "data": {
      "image/png": "[encoded data removed]",
      "text/plain": [
       "<Figure size 432x288 with 2 Axes>"
      ]
     },
     "metadata": {
      "needs_background": "light"
     },
     "output_type": "display_data"
    }
   ],
   "source": [
    "pd_mb_overview_no_dropna = pd_mb_overview.loc[pd_mb_overview['TIME_SYSTEM'].dropna().index]\n",
    "print('amount of glaciers with unknown np.NaN given TIME_SYSTEM: ')\n",
    "len(np.unique(pd_mb_overview.WGMS_ID)) - len(np.unique(pd_mb_overview_no_dropna.WGMS_ID))\n",
    "plt.subplot(121)\n",
    "plt.hist(pd_mb_overview_no_dropna.groupby('WGMS_ID').max()['TIME_SYSTEM']) #, bins = np.arange(0, len(date_end_winter['TIME_SYSTEM'].unique()), 1))\n",
    "plt.title('by glacier: n= {}\\n (without glaciers with NaN TIME_SYSTEM)'.format(len(pd_mb_overview_no_dropna.groupby('WGMS_ID').max()['TIME_SYSTEM'])))\n",
    "plt.subplot(122)\n",
    "plt.hist(pd_mb_overview_no_dropna['TIME_SYSTEM'])\n",
    "plt.title('by amount of measurement years\\n(for all glaciers together)')\n",
    "plt.tight_layout()"
   ]
  },
  {
   "cell_type": "code",
   "execution_count": 49,
   "id": "976c997f",
   "metadata": {},
   "outputs": [],
   "source": [
    "pd_mb_overview['float_month_distance_to_end_april'] = pd_mb_overview['month_END_WINTER'] + pd_mb_overview['day_END_WINTER'].values/30 #- 5"
   ]
  },
  {
   "cell_type": "code",
   "execution_count": 50,
   "id": "ad64dfad",
   "metadata": {},
   "outputs": [],
   "source": [
    "for period in ['BEGIN_PERIOD', 'END_PERIOD']:\n",
    "    pd_mb_overview[f'float_month_distance_to_october1st_{period}'] = pd_mb_overview[f'month_{period}'] + pd_mb_overview[f'day_{period}'].values/30 #- 10 - 1/30"
   ]
  },
  {
   "cell_type": "code",
   "execution_count": 51,
   "id": "6e2e5a00",
   "metadata": {},
   "outputs": [
    {
     "data": {
      "text/plain": [
       "(array([7.00e+00, 2.20e+01, 5.40e+01, 1.00e+00, 0.00e+00, 7.00e+00,\n",
       "        3.97e+02, 1.06e+03, 7.60e+01, 5.00e+00]),\n",
       " array([ 1.3       ,  2.47333333,  3.64666667,  4.82      ,  5.99333333,\n",
       "         7.16666667,  8.34      ,  9.51333333, 10.68666667, 11.86      ,\n",
       "        13.03333333]),\n",
       " <BarContainer object of 10 artists>)"
      ]
     },
     "execution_count": 51,
     "metadata": {},
     "output_type": "execute_result"
    },
    {
     "data": {
      "image/png": "[encoded data removed]",
      "text/plain": [
       "<Figure size 1728x720 with 3 Axes>"
      ]
     },
     "metadata": {
      "needs_background": "light"
     },
     "output_type": "display_data"
    }
   ],
   "source": [
    "plt.figure(figsize=(24,10))\n",
    "plt.subplot(131)\n",
    "plt.hist(pd_mb_overview['float_month_distance_to_end_april'])\n",
    "plt.subplot(132)\n",
    "plt.hist(pd_mb_overview[f'float_month_distance_to_october1st_BEGIN_PERIOD'])\n",
    "plt.subplot(133)\n",
    "plt.hist(pd_mb_overview[f'float_month_distance_to_october1st_END_PERIOD'])"
   ]
  },
  {
   "cell_type": "code",
   "execution_count": 52,
   "id": "8e3c86eb",
   "metadata": {},
   "outputs": [],
   "source": [
    "unc = 1 # 0.5\n",
    "pd_mb_overview_endApril = pd_mb_overview[(pd_mb_overview['float_month_distance_to_end_april'] <=  5 + unc) & (pd_mb_overview['float_month_distance_to_end_april'] >=  5-unc)]\n",
    "condi1 = (pd_mb_overview_endApril[f'float_month_distance_to_october1st_BEGIN_PERIOD'] >= 10-unc) & (pd_mb_overview_endApril[f'float_month_distance_to_october1st_BEGIN_PERIOD'] <= 10 +unc)\n",
    "condi2 = (pd_mb_overview_endApril[f'float_month_distance_to_october1st_END_PERIOD'] >= 10-unc) & (pd_mb_overview_endApril[f'float_month_distance_to_october1st_END_PERIOD'] <= 10+unc)\n",
    "\n",
    "pd_mb_overview_endApril_beginOctober = pd_mb_overview_endApril[condi1 & condi2]"
   ]
  },
  {
   "cell_type": "code",
   "execution_count": 53,
   "id": "77165baa",
   "metadata": {},
   "outputs": [
    {
     "data": {
      "text/plain": [
       "1162"
      ]
     },
     "execution_count": 53,
     "metadata": {},
     "output_type": "execute_result"
    }
   ],
   "source": [
    "len(pd_mb_overview_endApril_beginOctober)"
   ]
  },
  {
   "cell_type": "markdown",
   "id": "2d22aa9e",
   "metadata": {},
   "source": [
    "Remove those glaciers with now not anymore enough measurements:"
   ]
  },
  {
   "cell_type": "code",
   "execution_count": 54,
   "id": "b0688795",
   "metadata": {},
   "outputs": [],
   "source": [
    "wgms_w_enough_msm_new = pd_mb_overview_endApril_beginOctober.WGMS_ID.value_counts()[pd_mb_overview_endApril_beginOctober.WGMS_ID.value_counts()>=5].index"
   ]
  },
  {
   "cell_type": "code",
   "execution_count": 55,
   "id": "cbbed9fd",
   "metadata": {},
   "outputs": [
    {
     "data": {
      "text/plain": [
       "76"
      ]
     },
     "execution_count": 55,
     "metadata": {},
     "output_type": "execute_result"
    }
   ],
   "source": [
    "len(wgms_w_enough_msm_new)"
   ]
  },
  {
   "cell_type": "code",
   "execution_count": 56,
   "id": "edd0e049",
   "metadata": {},
   "outputs": [
    {
     "data": {
      "text/plain": [
       "1162"
      ]
     },
     "execution_count": 56,
     "metadata": {},
     "output_type": "execute_result"
    }
   ],
   "source": [
    "len(pd_mb_overview_endApril_beginOctober)"
   ]
  },
  {
   "cell_type": "code",
   "execution_count": 57,
   "id": "446b0024",
   "metadata": {},
   "outputs": [],
   "source": [
    "# drop those glaciers where we do not have enough measurements\n",
    "for k in pd_mb_overview_endApril_beginOctober.index:\n",
    "    if np.any(pd_mb_overview_endApril_beginOctober.loc[k].WGMS_ID == wgms_w_enough_msm_new):\n",
    "        pass\n",
    "    else:\n",
    "        pd_mb_overview_endApril_beginOctober = pd_mb_overview_endApril_beginOctober.drop(k)"
   ]
  },
  {
   "cell_type": "code",
   "execution_count": 58,
   "id": "17541e49",
   "metadata": {},
   "outputs": [
    {
     "data": {
      "text/plain": [
       "76"
      ]
     },
     "execution_count": 58,
     "metadata": {},
     "output_type": "execute_result"
    }
   ],
   "source": [
    "len(pd_mb_overview_endApril_beginOctober.WGMS_ID.value_counts())"
   ]
  },
  {
   "cell_type": "code",
   "execution_count": 59,
   "id": "ab1e6d62",
   "metadata": {},
   "outputs": [],
   "source": [
    "pd_mb_overview_endApril_beginOctober.loc[pd_mb_overview_endApril_beginOctober.TIME_SYSTEM.isnull(), 'TIME_SYSTEM'] = 'NAN'"
   ]
  },
  {
   "cell_type": "code",
   "execution_count": 60,
   "id": "760d43b6",
   "metadata": {},
   "outputs": [
    {
     "data": {
      "text/plain": [
       "Text(0.5, 0, 'TIME_MEASUREMENT_SYSTEM')"
      ]
     },
     "execution_count": 60,
     "metadata": {},
     "output_type": "execute_result"
    },
    {
     "data": {
      "image/png": "[encoded data removed]",
      "text/plain": [
       "<Figure size 432x288 with 1 Axes>"
      ]
     },
     "metadata": {
      "needs_background": "light"
     },
     "output_type": "display_data"
    }
   ],
   "source": [
    "plt.hist(pd_mb_overview_endApril_beginOctober['TIME_SYSTEM'], align = 'left', bins=np.arange(0, 7,1), rwidth=0.7)\n",
    "plt.title(f'amount of total glacier measurements\\n(in time period April 30th +/- {unc} month and October 1st +/- {unc} month)')\n",
    "plt.ylabel('counts of years')\n",
    "plt.xlabel('TIME_MEASUREMENT_SYSTEM')"
   ]
  },
  {
   "cell_type": "code",
   "execution_count": 61,
   "id": "fe59572b",
   "metadata": {},
   "outputs": [],
   "source": [
    "pd_working_winter.index = pd_working_winter.WGMS_ID"
   ]
  },
  {
   "cell_type": "code",
   "execution_count": 62,
   "id": "db288c44",
   "metadata": {},
   "outputs": [
    {
     "data": {
      "text/plain": [
       "76"
      ]
     },
     "execution_count": 62,
     "metadata": {},
     "output_type": "execute_result"
    }
   ],
   "source": [
    "# glaciers\n",
    "len(pd_working_winter.loc[wgms_w_enough_msm_new].sort_values('rgi_id'))"
   ]
  },
  {
   "cell_type": "code",
   "execution_count": 63,
   "id": "d2556dba",
   "metadata": {},
   "outputs": [
    {
     "data": {
      "text/plain": [
       "57"
      ]
     },
     "execution_count": 63,
     "metadata": {},
     "output_type": "execute_result"
    }
   ],
   "source": [
    "# glaciers with enough MB profiles (in northern Hemisphere because winter MB near to Oct 1st -> April 30th)\n",
    "len(pd_working_winter.loc[wgms_w_enough_msm_new][pd_working_winter.loc[wgms_w_enough_msm_new].MB_profile])\n",
    "\n",
    "# southern hemisphere tropics rgi regions: ['16', '17', '18', '19']"
   ]
  },
  {
   "cell_type": "markdown",
   "id": "09cde9d6",
   "metadata": {},
   "source": [
    "### We have removed those measurements where winter+ summer did not coincide roughly to the annual MB. Let's look at those glaciers with large differences in more detail:"
   ]
  },
  {
   "cell_type": "code",
   "execution_count": 64,
   "id": "056e6a95",
   "metadata": {},
   "outputs": [
    {
     "data": {
      "text/html": [
       "<div>\n",
       "<style scoped>\n",
       "    .dataframe tbody tr th:only-of-type {\n",
       "        vertical-align: middle;\n",
       "    }\n",
       "\n",
       "    .dataframe tbody tr th {\n",
       "        vertical-align: top;\n",
       "    }\n",
       "\n",
       "    .dataframe thead th {\n",
       "        text-align: right;\n",
       "    }\n",
       "</style>\n",
       "<table border=\"1\" class=\"dataframe\">\n",
       "  <thead>\n",
       "    <tr style=\"text-align: right;\">\n",
       "      <th></th>\n",
       "      <th>rgi_id</th>\n",
       "      <th>MB_profile</th>\n",
       "      <th>exist_diff_total_winter_summer_above_100</th>\n",
       "      <th>len_mb_profile</th>\n",
       "      <th>len_summer_balance</th>\n",
       "      <th>len_winter_balance</th>\n",
       "      <th>len_annual_balance</th>\n",
       "    </tr>\n",
       "  </thead>\n",
       "  <tbody>\n",
       "    <tr>\n",
       "      <th>RGI60-17.14203</th>\n",
       "      <td>RGI60-17.14203</td>\n",
       "      <td>False</td>\n",
       "      <td>True</td>\n",
       "      <td>0</td>\n",
       "      <td>23</td>\n",
       "      <td>23</td>\n",
       "      <td>24.0</td>\n",
       "    </tr>\n",
       "    <tr>\n",
       "      <th>RGI60-11.00781</th>\n",
       "      <td>RGI60-11.00781</td>\n",
       "      <td>True</td>\n",
       "      <td>True</td>\n",
       "      <td>28</td>\n",
       "      <td>26</td>\n",
       "      <td>26</td>\n",
       "      <td>31.0</td>\n",
       "    </tr>\n",
       "    <tr>\n",
       "      <th>RGI60-16.01447</th>\n",
       "      <td>RGI60-16.01447</td>\n",
       "      <td>False</td>\n",
       "      <td>True</td>\n",
       "      <td>0</td>\n",
       "      <td>4</td>\n",
       "      <td>4</td>\n",
       "      <td>17.0</td>\n",
       "    </tr>\n",
       "    <tr>\n",
       "      <th>RGI60-02.00377</th>\n",
       "      <td>RGI60-02.00377</td>\n",
       "      <td>True</td>\n",
       "      <td>True</td>\n",
       "      <td>10</td>\n",
       "      <td>13</td>\n",
       "      <td>13</td>\n",
       "      <td>39.0</td>\n",
       "    </tr>\n",
       "    <tr>\n",
       "      <th>RGI60-13.45334</th>\n",
       "      <td>RGI60-13.45334</td>\n",
       "      <td>True</td>\n",
       "      <td>True</td>\n",
       "      <td>29</td>\n",
       "      <td>20</td>\n",
       "      <td>20</td>\n",
       "      <td>32.0</td>\n",
       "    </tr>\n",
       "    <tr>\n",
       "      <th>RGI60-14.15990</th>\n",
       "      <td>RGI60-14.15990</td>\n",
       "      <td>False</td>\n",
       "      <td>True</td>\n",
       "      <td>0</td>\n",
       "      <td>9</td>\n",
       "      <td>9</td>\n",
       "      <td>19.0</td>\n",
       "    </tr>\n",
       "    <tr>\n",
       "      <th>RGI60-11.03166</th>\n",
       "      <td>RGI60-11.03166</td>\n",
       "      <td>False</td>\n",
       "      <td>True</td>\n",
       "      <td>0</td>\n",
       "      <td>19</td>\n",
       "      <td>19</td>\n",
       "      <td>20.0</td>\n",
       "    </tr>\n",
       "    <tr>\n",
       "      <th>RGI60-13.18096</th>\n",
       "      <td>RGI60-13.18096</td>\n",
       "      <td>True</td>\n",
       "      <td>True</td>\n",
       "      <td>28</td>\n",
       "      <td>22</td>\n",
       "      <td>22</td>\n",
       "      <td>28.0</td>\n",
       "    </tr>\n",
       "    <tr>\n",
       "      <th>RGI60-13.08055</th>\n",
       "      <td>RGI60-13.08055</td>\n",
       "      <td>True</td>\n",
       "      <td>True</td>\n",
       "      <td>10</td>\n",
       "      <td>9</td>\n",
       "      <td>9</td>\n",
       "      <td>10.0</td>\n",
       "    </tr>\n",
       "    <tr>\n",
       "      <th>RGI60-10.04358</th>\n",
       "      <td>RGI60-10.04358</td>\n",
       "      <td>False</td>\n",
       "      <td>True</td>\n",
       "      <td>0</td>\n",
       "      <td>4</td>\n",
       "      <td>4</td>\n",
       "      <td>10.0</td>\n",
       "    </tr>\n",
       "    <tr>\n",
       "      <th>RGI60-07.00504</th>\n",
       "      <td>RGI60-07.00504</td>\n",
       "      <td>True</td>\n",
       "      <td>True</td>\n",
       "      <td>18</td>\n",
       "      <td>26</td>\n",
       "      <td>26</td>\n",
       "      <td>41.0</td>\n",
       "    </tr>\n",
       "    <tr>\n",
       "      <th>RGI60-07.00240</th>\n",
       "      <td>RGI60-07.00240</td>\n",
       "      <td>True</td>\n",
       "      <td>True</td>\n",
       "      <td>27</td>\n",
       "      <td>26</td>\n",
       "      <td>26</td>\n",
       "      <td>31.0</td>\n",
       "    </tr>\n",
       "    <tr>\n",
       "      <th>RGI60-07.00493</th>\n",
       "      <td>RGI60-07.00493</td>\n",
       "      <td>True</td>\n",
       "      <td>True</td>\n",
       "      <td>13</td>\n",
       "      <td>36</td>\n",
       "      <td>36</td>\n",
       "      <td>41.0</td>\n",
       "    </tr>\n",
       "    <tr>\n",
       "      <th>RGI60-02.17862</th>\n",
       "      <td>RGI60-02.17862</td>\n",
       "      <td>False</td>\n",
       "      <td>True</td>\n",
       "      <td>0</td>\n",
       "      <td>12</td>\n",
       "      <td>12</td>\n",
       "      <td>23.0</td>\n",
       "    </tr>\n",
       "  </tbody>\n",
       "</table>\n",
       "</div>"
      ],
      "text/plain": [
       "                        rgi_id  MB_profile  \\\n",
       "RGI60-17.14203  RGI60-17.14203       False   \n",
       "RGI60-11.00781  RGI60-11.00781        True   \n",
       "RGI60-16.01447  RGI60-16.01447       False   \n",
       "RGI60-02.00377  RGI60-02.00377        True   \n",
       "RGI60-13.45334  RGI60-13.45334        True   \n",
       "RGI60-14.15990  RGI60-14.15990       False   \n",
       "RGI60-11.03166  RGI60-11.03166       False   \n",
       "RGI60-13.18096  RGI60-13.18096        True   \n",
       "RGI60-13.08055  RGI60-13.08055        True   \n",
       "RGI60-10.04358  RGI60-10.04358       False   \n",
       "RGI60-07.00504  RGI60-07.00504        True   \n",
       "RGI60-07.00240  RGI60-07.00240        True   \n",
       "RGI60-07.00493  RGI60-07.00493        True   \n",
       "RGI60-02.17862  RGI60-02.17862       False   \n",
       "\n",
       "                exist_diff_total_winter_summer_above_100  len_mb_profile  \\\n",
       "RGI60-17.14203                                      True               0   \n",
       "RGI60-11.00781                                      True              28   \n",
       "RGI60-16.01447                                      True               0   \n",
       "RGI60-02.00377                                      True              10   \n",
       "RGI60-13.45334                                      True              29   \n",
       "RGI60-14.15990                                      True               0   \n",
       "RGI60-11.03166                                      True               0   \n",
       "RGI60-13.18096                                      True              28   \n",
       "RGI60-13.08055                                      True              10   \n",
       "RGI60-10.04358                                      True               0   \n",
       "RGI60-07.00504                                      True              18   \n",
       "RGI60-07.00240                                      True              27   \n",
       "RGI60-07.00493                                      True              13   \n",
       "RGI60-02.17862                                      True               0   \n",
       "\n",
       "                len_summer_balance  len_winter_balance  len_annual_balance  \n",
       "RGI60-17.14203                  23                  23                24.0  \n",
       "RGI60-11.00781                  26                  26                31.0  \n",
       "RGI60-16.01447                   4                   4                17.0  \n",
       "RGI60-02.00377                  13                  13                39.0  \n",
       "RGI60-13.45334                  20                  20                32.0  \n",
       "RGI60-14.15990                   9                   9                19.0  \n",
       "RGI60-11.03166                  19                  19                20.0  \n",
       "RGI60-13.18096                  22                  22                28.0  \n",
       "RGI60-13.08055                   9                   9                10.0  \n",
       "RGI60-10.04358                   4                   4                10.0  \n",
       "RGI60-07.00504                  26                  26                41.0  \n",
       "RGI60-07.00240                  26                  26                31.0  \n",
       "RGI60-07.00493                  36                  36                41.0  \n",
       "RGI60-02.17862                  12                  12                23.0  "
      ]
     },
     "execution_count": 64,
     "metadata": {},
     "output_type": "execute_result"
    }
   ],
   "source": [
    "diff_diverging = pd_working[pd_working['exist_diff_total_winter_summer_above_100']].index\n",
    "pd_working[pd_working['exist_diff_total_winter_summer_above_100']]"
   ]
  },
  {
   "cell_type": "code",
   "execution_count": 65,
   "id": "6fc8e3fd",
   "metadata": {},
   "outputs": [
    {
     "name": "stdout",
     "output_type": "stream",
     "text": [
      "Number of glaciers where Winter + Summer Balance differs by more than +/- 100 kg/m2 for at least one observation: 14\n"
     ]
    }
   ],
   "source": [
    "print(f'Number of glaciers where Winter + Summer Balance differs by more than +/- 100 kg/m2 for at least one observation: {len(diff_diverging)}')\n"
   ]
  },
  {
   "cell_type": "code",
   "execution_count": 66,
   "id": "7e2d01d7",
   "metadata": {},
   "outputs": [
    {
     "name": "stderr",
     "output_type": "stream",
     "text": [
      "2022-03-01 15:02:24: oggm.workflow: Execute entity tasks [GlacierDirectory] on 14 glaciers\n"
     ]
    }
   ],
   "source": [
    "gdirs_diverging = workflow.init_glacier_directories(diff_diverging)"
   ]
  },
  {
   "cell_type": "code",
   "execution_count": 67,
   "id": "7b1e2dbc",
   "metadata": {},
   "outputs": [
    {
     "name": "stderr",
     "output_type": "stream",
     "text": [
      "2022-03-01 15:02:28: oggm.utils: You are trying to set MB data on a tidewater glacier! These data will be ignored by the MB model calibration routine.\n"
     ]
    }
   ],
   "source": [
    "n_100 = {}\n",
    "diff_100 = {}\n",
    "for gdir in gdirs_diverging:\n",
    "    mb = gdir.get_ref_mb_data(input_filesuffix=input_fs)\n",
    "    total_min_win_sum = (mb['ANNUAL_BALANCE'] - (mb['WINTER_BALANCE']+mb['SUMMER_BALANCE']))\n",
    "    n_100[gdir.rgi_id] = len(total_min_win_sum[total_min_win_sum>=100])\n",
    "    diff_100[gdir.rgi_id] = total_min_win_sum[total_min_win_sum>=100].values"
   ]
  },
  {
   "cell_type": "markdown",
   "id": "84f599ed",
   "metadata": {},
   "source": [
    "**Differences between summer and winter Balance (if above +/-100 kg/m2, and if pre-filtered by oggm default wgms pre-processing!**"
   ]
  },
  {
   "cell_type": "code",
   "execution_count": 68,
   "id": "f0655678",
   "metadata": {},
   "outputs": [
    {
     "data": {
      "text/plain": [
       "{'RGI60-17.14203': array([590.]),\n",
       " 'RGI60-11.00781': array([110.]),\n",
       " 'RGI60-16.01447': array([263.]),\n",
       " 'RGI60-02.00377': array([409.]),\n",
       " 'RGI60-13.45334': array([546., 325.]),\n",
       " 'RGI60-14.15990': array([160.]),\n",
       " 'RGI60-11.03166': array([360.]),\n",
       " 'RGI60-13.18096': array([654.]),\n",
       " 'RGI60-13.08055': array([140.]),\n",
       " 'RGI60-10.04358': array([100.]),\n",
       " 'RGI60-07.00504': array([106., 100.]),\n",
       " 'RGI60-07.00240': array([440., 228.]),\n",
       " 'RGI60-07.00493': array([100.]),\n",
       " 'RGI60-02.17862': array([350.])}"
      ]
     },
     "execution_count": 68,
     "metadata": {},
     "output_type": "execute_result"
    }
   ],
   "source": [
    "diff_100"
   ]
  },
  {
   "cell_type": "code",
   "execution_count": null,
   "id": "ebf8e1f3",
   "metadata": {},
   "outputs": [],
   "source": []
  }
 ],
 "metadata": {
  "kernelspec": {
   "display_name": "oggm_test",
   "language": "python",
   "name": "oggm_test"
  },
  "language_info": {
   "codemirror_mode": {
    "name": "ipython",
    "version": 3
   },
   "file_extension": ".py",
   "mimetype": "text/x-python",
   "name": "python",
   "nbconvert_exporter": "python",
   "pygments_lexer": "ipython3",
   "version": "3.8.5"
  }
 },
 "nbformat": 4,
 "nbformat_minor": 5
}
