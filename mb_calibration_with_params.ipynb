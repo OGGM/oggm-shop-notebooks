{
 "cells": [
  {
   "cell_type": "code",
   "execution_count": null,
   "metadata": {},
   "outputs": [],
   "source": [
    "# Python imports\n",
    "import json\n",
    "import os\n",
    "import shutil\n",
    "import warnings\n",
    "\n",
    "# Libs\n",
    "import numpy as np\n",
    "import pandas as pd\n",
    "import matplotlib.pyplot as plt\n",
    "\n",
    "# Locals\n",
    "from oggm import cfg, utils, tasks\n",
    "from oggm.workflow import execute_entity_task, init_glacier_directories\n",
    "from oggm.core.massbalance import (ConstantMassBalance, PastMassBalance,\n",
    "                                   MultipleFlowlineMassBalance)"
   ]
  },
  {
   "cell_type": "code",
   "execution_count": null,
   "metadata": {},
   "outputs": [],
   "source": [
    "# Module logger\n",
    "import logging\n",
    "log = logging.getLogger(__name__)"
   ]
  },
  {
   "cell_type": "code",
   "execution_count": null,
   "metadata": {
    "tags": [
     "parameters"
    ]
   },
   "outputs": [],
   "source": [
    "# Papermill parameters\n",
    "rgi_version = '62'\n",
    "baseline_climate = 'CERA+ERA5'\n",
    "fl_type = 'elev_bands'\n",
    "climate_qc_months = 3\n",
    "border = 10\n",
    "prcp_scaling_factor = 1.6"
   ]
  },
  {
   "cell_type": "code",
   "execution_count": null,
   "metadata": {},
   "outputs": [],
   "source": [
    "rgi_version = str(rgi_version)\n",
    "climate_qc_months = int(climate_qc_months)\n",
    "border = int(border)\n",
    "prcp_scaling_factor = float(prcp_scaling_factor)"
   ]
  },
  {
   "cell_type": "code",
   "execution_count": null,
   "metadata": {},
   "outputs": [],
   "source": [
    "print(f'''# User params:\n",
    "rgi_version = {rgi_version}\n",
    "baseline_climate = {baseline_climate}\n",
    "fl_type = {fl_type}\n",
    "climate_qc_months = {climate_qc_months}\n",
    "border = {border}\n",
    "prcp_scaling_factor = {prcp_scaling_factor}\n",
    "''')"
   ]
  },
  {
   "cell_type": "code",
   "execution_count": null,
   "metadata": {},
   "outputs": [],
   "source": [
    "run_dir = utils.gettempdir('mb_calib', home=True)\n",
    "dirname = os.path.join(f'RGIV{rgi_version}', f'{baseline_climate}', f'{fl_type}', f'qc{climate_qc_months}', f'pcp{prcp_scaling_factor:.1f}')\n",
    "WORKING_DIR = os.path.join(run_dir, dirname)\n",
    "print(f'Working dir: {WORKING_DIR}')"
   ]
  },
  {
   "cell_type": "code",
   "execution_count": null,
   "metadata": {},
   "outputs": [],
   "source": [
    "# Start from zero?\n",
    "reset = True\n",
    "\n",
    "# Initialize OGGM and set up the run parameters\n",
    "cfg.initialize(logging_level='WARNING')\n",
    "\n",
    "# Local paths (where to write the OGGM run output)\n",
    "utils.mkdir(WORKING_DIR, reset=reset);\n",
    "utils.mkdir(os.path.join(WORKING_DIR, 'log'), reset=True);\n",
    "\n",
    "SCORES_DIR = os.path.join(WORKING_DIR, '_scores')\n",
    "utils.mkdir(SCORES_DIR);"
   ]
  },
  {
   "cell_type": "code",
   "execution_count": null,
   "metadata": {},
   "outputs": [],
   "source": [
    "cfg.PATHS['working_dir'] = WORKING_DIR\n",
    "cfg.PARAMS['run_mb_calibration'] = True\n",
    "cfg.PARAMS['use_multiprocessing'] = True\n",
    "cfg.PARAMS['continue_on_error'] = False\n",
    "cfg.PARAMS['border'] = border\n",
    "cfg.PARAMS['climate_qc_months'] = climate_qc_months\n",
    "cfg.PARAMS['dl_verify'] = False\n",
    "cfg.PARAMS['baseline_climate'] = baseline_climate\n",
    "cfg.PARAMS['prcp_scaling_factor'] = prcp_scaling_factor"
   ]
  },
  {
   "cell_type": "code",
   "execution_count": null,
   "metadata": {},
   "outputs": [],
   "source": [
    "# Prepare the preprocessed dirs\n",
    "df, _ = utils.get_wgms_files()\n",
    "rids = df['RGI{}0_ID'.format(rgi_version[0])]\n",
    "print('Number of potential ref glaciers: {}'.format(len(rids)))"
   ]
  },
  {
   "cell_type": "code",
   "execution_count": null,
   "metadata": {},
   "outputs": [],
   "source": [
    "base_url = f'https://cluster.klima.uni-bremen.de/~oggm/gdirs/oggm_v1.4/L1-L2_files/{fl_type}/'\n",
    "\n",
    "print('base url: {}'.format(base_url))"
   ]
  },
  {
   "cell_type": "code",
   "execution_count": null,
   "metadata": {},
   "outputs": [],
   "source": [
    "all_gdirs = init_glacier_directories(rids, from_prepro_level=2, prepro_base_url=base_url, prepro_rgi_version=rgi_version)"
   ]
  },
  {
   "cell_type": "code",
   "execution_count": null,
   "metadata": {},
   "outputs": [],
   "source": [
    "ref_list_f = os.path.join(SCORES_DIR, 'available_ref_glaciers.csv')\n",
    "if not os.path.exists(ref_list_f):\n",
    "\n",
    "    # Get the reference glacier ids\n",
    "    df, _ = utils.get_wgms_files()\n",
    "    rids = df['RGI{}0_ID'.format(rgi_version[0])]\n",
    "\n",
    "    if 'CRU' in baseline_climate:\n",
    "        # For CRU we can't do Antarctica\n",
    "        gdirs = [gdir for gdir in all_gdirs if gdir.rgi_region != '19']\n",
    "    else:\n",
    "        # take all\n",
    "        gdirs = [gdir for gdir in all_gdirs]\n",
    "\n",
    "    # We need to know which period we have data for\n",
    "    log.workflow('Process the climate data...')\n",
    "    execute_entity_task(tasks.process_climate_data, gdirs,\n",
    "                        print_log=False)\n",
    "    if climate_qc_months > 0:\n",
    "        execute_entity_task(tasks.historical_climate_qc, gdirs,\n",
    "                            print_log=False)\n",
    "\n",
    "    # Let OGGM decide which of these have enough data\n",
    "    gdirs = utils.get_ref_mb_glaciers(gdirs)\n",
    "\n",
    "    # Manual removal of bad actors\n",
    "    if 'CRU' in baseline_climate:\n",
    "        bad = ['RGI60-15.06557', 'RGI60-15.06777']\n",
    "        gdirs = [gd for gd in gdirs if gd.rgi_id not in bad]\n",
    "\n",
    "    # Save the list of glaciers for later\n",
    "    log.workflow('N reference glaciers after climate check: {}'.format(len(gdirs)))\n",
    "    rgidf = pd.Series(data=[g.rgi_id for g in gdirs])\n",
    "    rgidf.to_csv(ref_list_f, header=False)\n",
    "else:\n",
    "    # Read the rgi ids of the reference glaciers\n",
    "    rids = pd.read_csv(ref_list_f, index_col=0, squeeze=True).values\n",
    "    gdirs = [gdir for gdir in all_gdirs if gdir.rgi_id in rids]"
   ]
  },
  {
   "cell_type": "code",
   "execution_count": null,
   "metadata": {},
   "outputs": [],
   "source": [
    "# Climate tasks\n",
    "tasks.compute_ref_t_stars(gdirs)\n",
    "execute_entity_task(tasks.local_t_star, gdirs)\n",
    "execute_entity_task(tasks.mu_star_calibration, gdirs)\n",
    "\n",
    "# We store the associated params\n",
    "mb_calib = gdirs[0].get_climate_info()['mb_calib_params']\n",
    "params_file = os.path.join(WORKING_DIR, 'ref_tstars_params.json')\n",
    "with open(params_file, 'w') as fp:\n",
    "    json.dump(mb_calib, fp)\n",
    "\n",
    "# And also some statistics\n",
    "diag_path = os.path.join(SCORES_DIR, 'glacier_statistics.csv')\n",
    "utils.compile_glacier_statistics(gdirs, path=diag_path)\n",
    "diag_path = os.path.join(SCORES_DIR, 'fixed_geometry_mass_balance.csv')\n",
    "utils.compile_fixed_geometry_mass_balance(gdirs, path=diag_path)\n",
    "\n",
    "# Tests: for all glaciers, the mass-balance around tstar and the\n",
    "# bias with observation should be approx 0\n",
    "log.workflow('Starting validation loop...')\n",
    "for gd in gdirs:\n",
    "    mbmod = MultipleFlowlineMassBalance(gd,\n",
    "                                        mb_model_class=ConstantMassBalance,\n",
    "                                        use_inversion_flowlines=True,\n",
    "                                        bias=0)  # bias=0 because of calib!\n",
    "\n",
    "    mb = mbmod.get_specific_mb()\n",
    "    np.testing.assert_allclose(mb, 0, atol=15)  # atol for numerical errors\n",
    "\n",
    "    mbmod = MultipleFlowlineMassBalance(gd, mb_model_class=PastMassBalance,\n",
    "                                        use_inversion_flowlines=True)\n",
    "\n",
    "    refmb = gd.get_ref_mb_data().copy()\n",
    "    refmb['OGGM'] = mbmod.get_specific_mb(year=refmb.index)\n",
    "    np.testing.assert_allclose(refmb.OGGM.mean(),\n",
    "                               refmb.ANNUAL_BALANCE.mean(),\n",
    "                               atol=15)  # atol for numerical errors\n",
    "\n",
    "# Log\n",
    "log.workflow('Calibration is done!')"
   ]
  },
  {
   "cell_type": "markdown",
   "metadata": {},
   "source": [
    "## Cross-val "
   ]
  },
  {
   "cell_type": "code",
   "execution_count": null,
   "metadata": {},
   "outputs": [],
   "source": [
    "# Cross-validation\n",
    "ref_df = pd.read_csv(os.path.join(WORKING_DIR, 'ref_tstars.csv'), index_col=0)\n",
    "log.workflow('Cross-validation loop...')\n",
    "for i, gdir in enumerate(gdirs):\n",
    "    # Now recalibrate the model blindly\n",
    "    tmp_ref_df = ref_df.loc[ref_df.index != gdir.rgi_id]\n",
    "    tasks.local_t_star(gdir, ref_df=tmp_ref_df)\n",
    "    tasks.mu_star_calibration(gdir)\n",
    "\n",
    "    # Mass-balance model with cross-validated parameters instead\n",
    "    mb_mod = MultipleFlowlineMassBalance(gdir,\n",
    "                                         mb_model_class=PastMassBalance,\n",
    "                                         use_inversion_flowlines=True)\n",
    "\n",
    "    # Mass-balance timeseries, observed and simulated\n",
    "    refmb = gdir.get_ref_mb_data().copy()\n",
    "    refmb['OGGM'] = mb_mod.get_specific_mb(year=refmb.index)\n",
    "\n",
    "    # Compare their standard deviation\n",
    "    std_ref = refmb.ANNUAL_BALANCE.std()\n",
    "\n",
    "    with warnings.catch_warnings():\n",
    "        # This can trigger a divide by zero Warning\n",
    "        warnings.filterwarnings(\"ignore\", category=RuntimeWarning)\n",
    "        rcor = np.corrcoef(refmb.OGGM, refmb.ANNUAL_BALANCE)[0, 1]\n",
    "        if std_ref == 0:\n",
    "            # such a thing happens with some geodetic values\n",
    "            std_ref = refmb.OGGM.std()\n",
    "            rcor = 1\n",
    "\n",
    "        # Store the scores\n",
    "        ref_df.loc[gdir.rgi_id, 'CV_MB_BIAS'] = (refmb.OGGM.mean() -\n",
    "                                                 refmb.ANNUAL_BALANCE.mean())\n",
    "        ref_df.loc[gdir.rgi_id, 'CV_MB_SIGMA_BIAS'] = refmb.OGGM.std() / std_ref\n",
    "        ref_df.loc[gdir.rgi_id, 'CV_MB_COR'] = rcor\n",
    "\n",
    "# Write out\n",
    "ref_df.to_csv(os.path.join(SCORES_DIR, 'crossval_tstars.csv'))\n",
    "\n",
    "scores = 'N = {}\\n'.format(len(gdirs))\n",
    "scores += 'Median bias: {:.2f}\\n'.format(ref_df['CV_MB_BIAS'].median())\n",
    "scores += 'Mean bias: {:.2f}\\n'.format(ref_df['CV_MB_BIAS'].mean())\n",
    "scores += 'RMS: {:.2f}\\n'.format(np.sqrt(np.mean(ref_df['CV_MB_BIAS']**2)))\n",
    "scores += 'Sigma bias: {:.2f}\\n'.format(np.mean(ref_df['CV_MB_SIGMA_BIAS']))\n",
    "\n",
    "# Marzeion et al Figure 3\n",
    "f, ax = plt.subplots(1, 1)\n",
    "bins = np.arange(20) * 400 - 3800\n",
    "ylim = 130\n",
    "ref_df['CV_MB_BIAS'].plot(ax=ax, kind='hist', bins=bins, color='C3',\n",
    "                          label='')\n",
    "ax.vlines(ref_df['CV_MB_BIAS'].mean(), 0, ylim, linestyles='--',\n",
    "          label='Mean')\n",
    "ax.vlines(ref_df['CV_MB_BIAS'].quantile(), 0, ylim, label='Median')\n",
    "ax.vlines(ref_df['CV_MB_BIAS'].quantile([0.05, 0.95]), 0, ylim,\n",
    "          color='grey', label='5% and 95%\\npercentiles')\n",
    "ax.text(0.01, 0.99, scores,\n",
    "        horizontalalignment='left',\n",
    "        verticalalignment='top',\n",
    "        transform=ax.transAxes)\n",
    "\n",
    "ax.set_ylim(0, ylim)\n",
    "ax.set_ylabel('N Glaciers')\n",
    "ax.set_xlabel('Mass-balance error (mm w.e. yr$^{-1}$)')\n",
    "ax.legend(loc='best')\n",
    "plt.title('{}'.format(dirname.replace('/', ' ')))\n",
    "plt.tight_layout()\n",
    "plt.savefig(os.path.join(SCORES_DIR, 'cv_histogram.png'),\n",
    "            dpi=150, bbox_inches='tight')\n",
    "plt.show()\n",
    "\n",
    "# Output\n",
    "print(scores)\n",
    "fn = os.path.join(SCORES_DIR, 'scores.txt')\n",
    "with open(fn, 'w') as f:\n",
    "    f.write(scores)"
   ]
  },
  {
   "cell_type": "markdown",
   "metadata": {},
   "source": [
    "## Ref Tstar analysis"
   ]
  },
  {
   "cell_type": "code",
   "execution_count": null,
   "metadata": {},
   "outputs": [],
   "source": [
    "df = pd.read_csv(os.path.join(WORKING_DIR, 'ref_tstars.csv'), index_col=0)\n",
    "df.bias.plot(kind='hist');\n",
    "df.bias.mean(), df.bias.median()"
   ]
  },
  {
   "cell_type": "markdown",
   "metadata": {},
   "source": [
    "## Delete data"
   ]
  },
  {
   "cell_type": "code",
   "execution_count": null,
   "metadata": {},
   "outputs": [],
   "source": [
    "shutil.rmtree(os.path.join(WORKING_DIR, 'log'))\n",
    "shutil.rmtree(os.path.join(WORKING_DIR, 'per_glacier'))"
   ]
  }
 ],
 "metadata": {
  "kernelspec": {
   "display_name": "Python 3",
   "language": "python",
   "name": "python3"
  },
  "language_info": {
   "codemirror_mode": {
    "name": "ipython",
    "version": 3
   },
   "file_extension": ".py",
   "mimetype": "text/x-python",
   "name": "python",
   "nbconvert_exporter": "python",
   "pygments_lexer": "ipython3",
   "version": "3.8.5"
  }
 },
 "nbformat": 4,
 "nbformat_minor": 4
}
