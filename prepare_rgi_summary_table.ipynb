{
 "cells": [
  {
   "cell_type": "code",
   "execution_count": 1,
   "metadata": {},
   "outputs": [],
   "source": [
    "%matplotlib inline\n",
    "import xarray as xr\n",
    "import cartopy\n",
    "import cartopy.crs as ccrs\n",
    "import salem\n",
    "import pandas as pd\n",
    "import geopandas as gpd\n",
    "from oggm import utils\n",
    "import os, glob"
   ]
  },
  {
   "cell_type": "code",
   "execution_count": 10,
   "metadata": {},
   "outputs": [],
   "source": [
    "# Get the RGI\n",
    "rgi_dir = utils.get_rgi_dir(version='62')\n",
    "\n",
    "fs = list(sorted(glob.glob(rgi_dir + \"/*/*_rgi6*_*.shp\")))[2:]\n",
    "out = []\n",
    "for f in fs:\n",
    "    sh = gpd.read_file(f).set_index('RGIId')\n",
    "    del sh['geometry']\n",
    "    out.append(pd.DataFrame(sh))\n",
    "mdf = pd.concat(out)\n",
    "\n",
    "mdf['O1Region'] = ['{:02d}'.format(int(i)) for i in mdf['O1Region']]\n",
    "mdf['O2Region'] = ['{:02d}'.format(int(i)) for i in mdf['O2Region']]\n",
    "\n",
    "# Read glacier attrs\n",
    "gtkeys = {0: 'Glacier',\n",
    "          1: 'Ice cap',\n",
    "          2: 'Perennial snowfield',\n",
    "          3: 'Seasonal snowfield',\n",
    "          9: 'Not assigned',\n",
    "          }\n",
    "ttkeys = {0: 'Land-terminating',\n",
    "          1: 'Marine-terminating',\n",
    "          2: 'Lake-terminating',\n",
    "          3: 'Dry calving',\n",
    "          4: 'Regenerated',\n",
    "          5: 'Shelf-terminating',\n",
    "          9: 'Not assigned',\n",
    "          }\n",
    "stkeys = {0: 'Glacier or ice cap',\n",
    "          1: 'Glacier complex',\n",
    "          2: 'Nominal glacier',\n",
    "          9: 'Not assigned',\n",
    "          }\n",
    "mdf['GlacierType'] = [gtkeys[g] for g in mdf.Form]\n",
    "mdf['TerminusType'] = [ttkeys[g] for g in mdf.TermType]\n",
    "mdf['GlacierStatus'] = [stkeys[g] for g in mdf.Status]\n",
    "mdf['IsTidewater'] = [ttype in ['Marine-terminating', 'Lake-terminating'] for ttype in mdf.TerminusType]\n",
    "mdf['IsNominal'] = [stype == 'Nominal glacier' for stype in mdf.GlacierStatus]"
   ]
  },
  {
   "cell_type": "code",
   "execution_count": 11,
   "metadata": {},
   "outputs": [],
   "source": [
    "mdf = mdf.drop(['check_geom'], axis=1)"
   ]
  },
  {
   "cell_type": "code",
   "execution_count": 12,
   "metadata": {},
   "outputs": [],
   "source": [
    "for i, d in mdf.iterrows():\n",
    "    assert i[6:8] == d['O1Region']"
   ]
  },
  {
   "cell_type": "code",
   "execution_count": 13,
   "metadata": {},
   "outputs": [
    {
     "name": "stderr",
     "output_type": "stream",
     "text": [
      "/home/mowglie/.pyenv/versions/3.8.5/envs/py3/lib/python3.8/site-packages/pandas/core/generic.py:2431: PerformanceWarning: \n",
      "your performance may suffer as PyTables will pickle object types that it cannot\n",
      "map directly to c-types [inferred_type->mixed,key->block0_values] [items->Index(['GLIMSId', 'BgnDate', 'EndDate', 'O1Region', 'O2Region', 'Name',\n",
      "       'GlacierType', 'TerminusType', 'GlacierStatus'],\n",
      "      dtype='object')]\n",
      "\n",
      "  pytables.to_hdf(\n"
     ]
    }
   ],
   "source": [
    "mdf.to_hdf('rgi62_stats.h5', key='df', mode='w', complevel=5)"
   ]
  },
  {
   "cell_type": "code",
   "execution_count": 2,
   "metadata": {},
   "outputs": [],
   "source": [
    "df = pd.read_hdf('rgi62_stats.h5')"
   ]
  },
  {
   "cell_type": "code",
   "execution_count": 3,
   "metadata": {},
   "outputs": [
    {
     "data": {
      "text/plain": [
       "Index(['GLIMSId', 'BgnDate', 'EndDate', 'CenLon', 'CenLat', 'O1Region',\n",
       "       'O2Region', 'Area', 'Zmin', 'Zmax', 'Zmed', 'Slope', 'Aspect', 'Lmax',\n",
       "       'Status', 'Connect', 'Form', 'TermType', 'Surging', 'Linkages', 'Name',\n",
       "       'GlacierType', 'TerminusType', 'GlacierStatus', 'IsTidewater',\n",
       "       'IsNominal'],\n",
       "      dtype='object')"
      ]
     },
     "execution_count": 3,
     "metadata": {},
     "output_type": "execute_result"
    }
   ],
   "source": [
    "df.columns"
   ]
  },
  {
   "cell_type": "code",
   "execution_count": 4,
   "metadata": {},
   "outputs": [],
   "source": [
    "df = df.loc[df['Connect'] != 2]"
   ]
  },
  {
   "cell_type": "code",
   "execution_count": 5,
   "metadata": {},
   "outputs": [],
   "source": [
    "df['rgi_year'] = [int(s[0:4]) for s in df.BgnDate]"
   ]
  },
  {
   "cell_type": "code",
   "execution_count": 7,
   "metadata": {},
   "outputs": [
    {
     "data": {
      "text/plain": [
       "633"
      ]
     },
     "execution_count": 7,
     "metadata": {},
     "output_type": "execute_result"
    }
   ],
   "source": [
    "len(df.loc[df['rgi_year'] < 0])"
   ]
  },
  {
   "cell_type": "code",
   "execution_count": 8,
   "metadata": {},
   "outputs": [],
   "source": [
    "df = df.loc[df['rgi_year'] > 0]"
   ]
  },
  {
   "cell_type": "code",
   "execution_count": 9,
   "metadata": {},
   "outputs": [
    {
     "data": {
      "text/plain": [
       "1943"
      ]
     },
     "execution_count": 9,
     "metadata": {},
     "output_type": "execute_result"
    }
   ],
   "source": [
    "df['rgi_year'].min()"
   ]
  },
  {
   "cell_type": "code",
   "execution_count": 10,
   "metadata": {},
   "outputs": [
    {
     "data": {
      "text/plain": [
       "O1Region\n",
       "01    2009.0\n",
       "02    2004.0\n",
       "03    1999.0\n",
       "04    2001.0\n",
       "05    2001.0\n",
       "06    2000.0\n",
       "07    2008.0\n",
       "08    2002.0\n",
       "09    2001.0\n",
       "10    2011.0\n",
       "11    2003.0\n",
       "12    2001.0\n",
       "13    2006.0\n",
       "14    2001.0\n",
       "15    2001.0\n",
       "16    2000.0\n",
       "17    2000.0\n",
       "18    1978.0\n",
       "19    1989.0\n",
       "Name: rgi_year, dtype: float64"
      ]
     },
     "execution_count": 10,
     "metadata": {},
     "output_type": "execute_result"
    }
   ],
   "source": [
    "df.groupby('O1Region').median()['rgi_year']"
   ]
  },
  {
   "cell_type": "code",
   "execution_count": null,
   "metadata": {},
   "outputs": [],
   "source": []
  }
 ],
 "metadata": {
  "kernelspec": {
   "display_name": "Python 3",
   "language": "python",
   "name": "python3"
  },
  "language_info": {
   "codemirror_mode": {
    "name": "ipython",
    "version": 3
   },
   "file_extension": ".py",
   "mimetype": "text/x-python",
   "name": "python",
   "nbconvert_exporter": "python",
   "pygments_lexer": "ipython3",
   "version": "3.8.5"
  }
 },
 "nbformat": 4,
 "nbformat_minor": 4
}
